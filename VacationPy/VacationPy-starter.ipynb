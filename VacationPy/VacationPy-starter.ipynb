{
 "cells": [
  {
   "cell_type": "markdown",
   "metadata": {},
   "source": [
    "# VacationPy\n",
    "----\n",
    "\n",
    "#### Note\n",
    "* Keep an eye on your API usage. Use https://developers.google.com/maps/reporting/gmp-reporting as reference for how to monitor your usage and billing.\n",
    "\n",
    "* Instructions have been included for each segment. You do not have to follow them exactly, but they are included to help you think through the steps."
   ]
  },
  {
   "cell_type": "code",
   "execution_count": 1,
   "metadata": {},
   "outputs": [],
   "source": [
    "# Dependencies and Setup\n",
    "import matplotlib.pyplot as plt\n",
    "import pandas as pd\n",
    "import numpy as np\n",
    "import requests\n",
    "import plotly.express as px\n",
    "\n",
    "\n",
    "# Import API key\n",
    "from api_keys import g_key\n",
    "from api_keys import mapbox_token\n",
    "\n",
    "px.set_mapbox_access_token(mapbox_token)"
   ]
  },
  {
   "cell_type": "markdown",
   "metadata": {},
   "source": [
    "### Store Part I results into DataFrame\n",
    "* Load the csv exported in Part I to a DataFrame"
   ]
  },
  {
   "cell_type": "code",
   "execution_count": 2,
   "metadata": {},
   "outputs": [
    {
     "data": {
      "text/html": [
       "<div>\n",
       "<style scoped>\n",
       "    .dataframe tbody tr th:only-of-type {\n",
       "        vertical-align: middle;\n",
       "    }\n",
       "\n",
       "    .dataframe tbody tr th {\n",
       "        vertical-align: top;\n",
       "    }\n",
       "\n",
       "    .dataframe thead th {\n",
       "        text-align: right;\n",
       "    }\n",
       "</style>\n",
       "<table border=\"1\" class=\"dataframe\">\n",
       "  <thead>\n",
       "    <tr style=\"text-align: right;\">\n",
       "      <th></th>\n",
       "      <th>name</th>\n",
       "      <th>lat</th>\n",
       "      <th>lng</th>\n",
       "      <th>max_temp_f</th>\n",
       "      <th>humidity</th>\n",
       "      <th>cloudiness</th>\n",
       "      <th>windspeed</th>\n",
       "      <th>country</th>\n",
       "      <th>date</th>\n",
       "    </tr>\n",
       "  </thead>\n",
       "  <tbody>\n",
       "    <tr>\n",
       "      <th>0</th>\n",
       "      <td>Pangnirtung</td>\n",
       "      <td>66.15</td>\n",
       "      <td>-65.71</td>\n",
       "      <td>34.63</td>\n",
       "      <td>84</td>\n",
       "      <td>100</td>\n",
       "      <td>6.06</td>\n",
       "      <td>CA</td>\n",
       "      <td>1601084642</td>\n",
       "    </tr>\n",
       "    <tr>\n",
       "      <th>1</th>\n",
       "      <td>Kathmandu</td>\n",
       "      <td>27.72</td>\n",
       "      <td>85.32</td>\n",
       "      <td>68.00</td>\n",
       "      <td>100</td>\n",
       "      <td>75</td>\n",
       "      <td>2.24</td>\n",
       "      <td>NP</td>\n",
       "      <td>1601084501</td>\n",
       "    </tr>\n",
       "    <tr>\n",
       "      <th>2</th>\n",
       "      <td>Taltal</td>\n",
       "      <td>-25.40</td>\n",
       "      <td>-70.48</td>\n",
       "      <td>56.26</td>\n",
       "      <td>74</td>\n",
       "      <td>36</td>\n",
       "      <td>3.24</td>\n",
       "      <td>CL</td>\n",
       "      <td>1601084642</td>\n",
       "    </tr>\n",
       "    <tr>\n",
       "      <th>3</th>\n",
       "      <td>Karratha</td>\n",
       "      <td>-20.74</td>\n",
       "      <td>116.85</td>\n",
       "      <td>77.68</td>\n",
       "      <td>36</td>\n",
       "      <td>98</td>\n",
       "      <td>14.83</td>\n",
       "      <td>AU</td>\n",
       "      <td>1601084643</td>\n",
       "    </tr>\n",
       "    <tr>\n",
       "      <th>4</th>\n",
       "      <td>Atar</td>\n",
       "      <td>20.52</td>\n",
       "      <td>-13.05</td>\n",
       "      <td>92.34</td>\n",
       "      <td>25</td>\n",
       "      <td>0</td>\n",
       "      <td>7.09</td>\n",
       "      <td>MR</td>\n",
       "      <td>1601084643</td>\n",
       "    </tr>\n",
       "  </tbody>\n",
       "</table>\n",
       "</div>"
      ],
      "text/plain": [
       "          name    lat     lng  max_temp_f  humidity  cloudiness  windspeed  \\\n",
       "0  Pangnirtung  66.15  -65.71       34.63        84         100       6.06   \n",
       "1    Kathmandu  27.72   85.32       68.00       100          75       2.24   \n",
       "2       Taltal -25.40  -70.48       56.26        74          36       3.24   \n",
       "3     Karratha -20.74  116.85       77.68        36          98      14.83   \n",
       "4         Atar  20.52  -13.05       92.34        25           0       7.09   \n",
       "\n",
       "  country        date  \n",
       "0      CA  1601084642  \n",
       "1      NP  1601084501  \n",
       "2      CL  1601084642  \n",
       "3      AU  1601084643  \n",
       "4      MR  1601084643  "
      ]
     },
     "execution_count": 2,
     "metadata": {},
     "output_type": "execute_result"
    }
   ],
   "source": [
    "df = pd.read_csv(\"cities.csv\")\n",
    "df.head()"
   ]
  },
  {
   "cell_type": "markdown",
   "metadata": {},
   "source": [
    "### Create new DataFrame fitting weather criteria\n",
    "* Narrow down the cities to fit weather conditions.\n",
    "* Drop any rows will null values."
   ]
  },
  {
   "cell_type": "code",
   "execution_count": 18,
   "metadata": {},
   "outputs": [
    {
     "data": {
      "text/html": [
       "<div>\n",
       "<style scoped>\n",
       "    .dataframe tbody tr th:only-of-type {\n",
       "        vertical-align: middle;\n",
       "    }\n",
       "\n",
       "    .dataframe tbody tr th {\n",
       "        vertical-align: top;\n",
       "    }\n",
       "\n",
       "    .dataframe thead th {\n",
       "        text-align: right;\n",
       "    }\n",
       "</style>\n",
       "<table border=\"1\" class=\"dataframe\">\n",
       "  <thead>\n",
       "    <tr style=\"text-align: right;\">\n",
       "      <th></th>\n",
       "      <th>name</th>\n",
       "      <th>lat</th>\n",
       "      <th>lng</th>\n",
       "      <th>max_temp_f</th>\n",
       "      <th>humidity</th>\n",
       "      <th>cloudiness</th>\n",
       "      <th>windspeed</th>\n",
       "      <th>country</th>\n",
       "      <th>date</th>\n",
       "      <th>lat_lng</th>\n",
       "    </tr>\n",
       "  </thead>\n",
       "  <tbody>\n",
       "    <tr>\n",
       "      <th>29</th>\n",
       "      <td>Tiznit Province</td>\n",
       "      <td>30.0</td>\n",
       "      <td>-10.0</td>\n",
       "      <td>77.16</td>\n",
       "      <td>40</td>\n",
       "      <td>0</td>\n",
       "      <td>3.22</td>\n",
       "      <td>MA</td>\n",
       "      <td>1601084649</td>\n",
       "      <td>29.58,-9.5</td>\n",
       "    </tr>\n",
       "    <tr>\n",
       "      <th>87</th>\n",
       "      <td>Carnarvon</td>\n",
       "      <td>-25.0</td>\n",
       "      <td>114.0</td>\n",
       "      <td>71.60</td>\n",
       "      <td>40</td>\n",
       "      <td>0</td>\n",
       "      <td>13.87</td>\n",
       "      <td>AU</td>\n",
       "      <td>1601084662</td>\n",
       "      <td>-24.87,113.63</td>\n",
       "    </tr>\n",
       "    <tr>\n",
       "      <th>91</th>\n",
       "      <td>Rosetta</td>\n",
       "      <td>31.0</td>\n",
       "      <td>30.0</td>\n",
       "      <td>77.00</td>\n",
       "      <td>73</td>\n",
       "      <td>0</td>\n",
       "      <td>5.82</td>\n",
       "      <td>EG</td>\n",
       "      <td>1601084663</td>\n",
       "      <td>31.4,30.42</td>\n",
       "    </tr>\n",
       "    <tr>\n",
       "      <th>103</th>\n",
       "      <td>Umluj</td>\n",
       "      <td>25.0</td>\n",
       "      <td>37.0</td>\n",
       "      <td>84.27</td>\n",
       "      <td>48</td>\n",
       "      <td>0</td>\n",
       "      <td>9.55</td>\n",
       "      <td>SA</td>\n",
       "      <td>1601084666</td>\n",
       "      <td>25.02,37.27</td>\n",
       "    </tr>\n",
       "    <tr>\n",
       "      <th>105</th>\n",
       "      <td>Pitimbu</td>\n",
       "      <td>-7.0</td>\n",
       "      <td>-35.0</td>\n",
       "      <td>71.60</td>\n",
       "      <td>88</td>\n",
       "      <td>0</td>\n",
       "      <td>4.70</td>\n",
       "      <td>BR</td>\n",
       "      <td>1601084666</td>\n",
       "      <td>-7.47,-34.81</td>\n",
       "    </tr>\n",
       "    <tr>\n",
       "      <th>110</th>\n",
       "      <td>Turbat</td>\n",
       "      <td>26.0</td>\n",
       "      <td>63.0</td>\n",
       "      <td>75.25</td>\n",
       "      <td>53</td>\n",
       "      <td>0</td>\n",
       "      <td>2.57</td>\n",
       "      <td>PK</td>\n",
       "      <td>1601084668</td>\n",
       "      <td>26.0,63.04</td>\n",
       "    </tr>\n",
       "    <tr>\n",
       "      <th>118</th>\n",
       "      <td>Caravelas</td>\n",
       "      <td>-18.0</td>\n",
       "      <td>-39.0</td>\n",
       "      <td>71.46</td>\n",
       "      <td>86</td>\n",
       "      <td>0</td>\n",
       "      <td>4.79</td>\n",
       "      <td>BR</td>\n",
       "      <td>1601084623</td>\n",
       "      <td>-17.71,-39.25</td>\n",
       "    </tr>\n",
       "    <tr>\n",
       "      <th>126</th>\n",
       "      <td>Marzuq</td>\n",
       "      <td>14.0</td>\n",
       "      <td>46.0</td>\n",
       "      <td>75.29</td>\n",
       "      <td>45</td>\n",
       "      <td>0</td>\n",
       "      <td>2.98</td>\n",
       "      <td>YE</td>\n",
       "      <td>1601084672</td>\n",
       "      <td>14.4,46.47</td>\n",
       "    </tr>\n",
       "    <tr>\n",
       "      <th>131</th>\n",
       "      <td>Agadez</td>\n",
       "      <td>20.0</td>\n",
       "      <td>10.0</td>\n",
       "      <td>80.89</td>\n",
       "      <td>16</td>\n",
       "      <td>0</td>\n",
       "      <td>9.17</td>\n",
       "      <td>NE</td>\n",
       "      <td>1601084673</td>\n",
       "      <td>19.75,10.25</td>\n",
       "    </tr>\n",
       "    <tr>\n",
       "      <th>146</th>\n",
       "      <td>Feicheng</td>\n",
       "      <td>35.0</td>\n",
       "      <td>118.0</td>\n",
       "      <td>71.46</td>\n",
       "      <td>63</td>\n",
       "      <td>0</td>\n",
       "      <td>7.09</td>\n",
       "      <td>CN</td>\n",
       "      <td>1601084677</td>\n",
       "      <td>35.26,117.97</td>\n",
       "    </tr>\n",
       "    <tr>\n",
       "      <th>186</th>\n",
       "      <td>Wajir</td>\n",
       "      <td>2.0</td>\n",
       "      <td>40.0</td>\n",
       "      <td>71.85</td>\n",
       "      <td>73</td>\n",
       "      <td>0</td>\n",
       "      <td>11.63</td>\n",
       "      <td>KE</td>\n",
       "      <td>1601084686</td>\n",
       "      <td>1.75,40.06</td>\n",
       "    </tr>\n",
       "    <tr>\n",
       "      <th>213</th>\n",
       "      <td>Yatou</td>\n",
       "      <td>37.0</td>\n",
       "      <td>122.0</td>\n",
       "      <td>71.83</td>\n",
       "      <td>64</td>\n",
       "      <td>0</td>\n",
       "      <td>8.86</td>\n",
       "      <td>CN</td>\n",
       "      <td>1601084421</td>\n",
       "      <td>37.15,122.38</td>\n",
       "    </tr>\n",
       "    <tr>\n",
       "      <th>265</th>\n",
       "      <td>Uberlândia</td>\n",
       "      <td>-19.0</td>\n",
       "      <td>-48.0</td>\n",
       "      <td>75.00</td>\n",
       "      <td>34</td>\n",
       "      <td>0</td>\n",
       "      <td>4.92</td>\n",
       "      <td>BR</td>\n",
       "      <td>1601084707</td>\n",
       "      <td>-18.92,-48.28</td>\n",
       "    </tr>\n",
       "    <tr>\n",
       "      <th>284</th>\n",
       "      <td>Abnūb</td>\n",
       "      <td>27.0</td>\n",
       "      <td>31.0</td>\n",
       "      <td>75.20</td>\n",
       "      <td>60</td>\n",
       "      <td>0</td>\n",
       "      <td>11.41</td>\n",
       "      <td>EG</td>\n",
       "      <td>1601084714</td>\n",
       "      <td>27.27,31.15</td>\n",
       "    </tr>\n",
       "    <tr>\n",
       "      <th>292</th>\n",
       "      <td>Jardim</td>\n",
       "      <td>-21.0</td>\n",
       "      <td>-56.0</td>\n",
       "      <td>76.96</td>\n",
       "      <td>34</td>\n",
       "      <td>0</td>\n",
       "      <td>4.05</td>\n",
       "      <td>BR</td>\n",
       "      <td>1601084717</td>\n",
       "      <td>-21.48,-56.14</td>\n",
       "    </tr>\n",
       "    <tr>\n",
       "      <th>294</th>\n",
       "      <td>Sur</td>\n",
       "      <td>23.0</td>\n",
       "      <td>60.0</td>\n",
       "      <td>82.33</td>\n",
       "      <td>54</td>\n",
       "      <td>0</td>\n",
       "      <td>4.63</td>\n",
       "      <td>OM</td>\n",
       "      <td>1601084718</td>\n",
       "      <td>22.57,59.53</td>\n",
       "    </tr>\n",
       "    <tr>\n",
       "      <th>328</th>\n",
       "      <td>Pasni</td>\n",
       "      <td>25.0</td>\n",
       "      <td>63.0</td>\n",
       "      <td>78.64</td>\n",
       "      <td>80</td>\n",
       "      <td>0</td>\n",
       "      <td>10.80</td>\n",
       "      <td>PK</td>\n",
       "      <td>1601084655</td>\n",
       "      <td>25.26,63.47</td>\n",
       "    </tr>\n",
       "    <tr>\n",
       "      <th>351</th>\n",
       "      <td>Coolum Beach</td>\n",
       "      <td>-27.0</td>\n",
       "      <td>153.0</td>\n",
       "      <td>75.00</td>\n",
       "      <td>28</td>\n",
       "      <td>0</td>\n",
       "      <td>5.99</td>\n",
       "      <td>AU</td>\n",
       "      <td>1601084737</td>\n",
       "      <td>-26.53,153.1</td>\n",
       "    </tr>\n",
       "    <tr>\n",
       "      <th>394</th>\n",
       "      <td>Jhelum</td>\n",
       "      <td>33.0</td>\n",
       "      <td>74.0</td>\n",
       "      <td>76.91</td>\n",
       "      <td>47</td>\n",
       "      <td>0</td>\n",
       "      <td>1.72</td>\n",
       "      <td>PK</td>\n",
       "      <td>1601084750</td>\n",
       "      <td>32.93,73.73</td>\n",
       "    </tr>\n",
       "    <tr>\n",
       "      <th>420</th>\n",
       "      <td>Ajdabiya</td>\n",
       "      <td>31.0</td>\n",
       "      <td>20.0</td>\n",
       "      <td>80.02</td>\n",
       "      <td>29</td>\n",
       "      <td>0</td>\n",
       "      <td>11.32</td>\n",
       "      <td>LY</td>\n",
       "      <td>1601084758</td>\n",
       "      <td>30.76,20.23</td>\n",
       "    </tr>\n",
       "    <tr>\n",
       "      <th>433</th>\n",
       "      <td>Mandera</td>\n",
       "      <td>4.0</td>\n",
       "      <td>42.0</td>\n",
       "      <td>75.38</td>\n",
       "      <td>61</td>\n",
       "      <td>0</td>\n",
       "      <td>11.81</td>\n",
       "      <td>KE</td>\n",
       "      <td>1601084762</td>\n",
       "      <td>3.94,41.87</td>\n",
       "    </tr>\n",
       "    <tr>\n",
       "      <th>478</th>\n",
       "      <td>Gusau</td>\n",
       "      <td>12.0</td>\n",
       "      <td>7.0</td>\n",
       "      <td>73.40</td>\n",
       "      <td>79</td>\n",
       "      <td>0</td>\n",
       "      <td>6.17</td>\n",
       "      <td>NG</td>\n",
       "      <td>1601084775</td>\n",
       "      <td>12.16,6.66</td>\n",
       "    </tr>\n",
       "    <tr>\n",
       "      <th>480</th>\n",
       "      <td>Mosetse</td>\n",
       "      <td>-21.0</td>\n",
       "      <td>27.0</td>\n",
       "      <td>71.06</td>\n",
       "      <td>29</td>\n",
       "      <td>0</td>\n",
       "      <td>11.05</td>\n",
       "      <td>BW</td>\n",
       "      <td>1601084775</td>\n",
       "      <td>-20.75,26.65</td>\n",
       "    </tr>\n",
       "    <tr>\n",
       "      <th>485</th>\n",
       "      <td>Caarapó</td>\n",
       "      <td>-23.0</td>\n",
       "      <td>-55.0</td>\n",
       "      <td>74.16</td>\n",
       "      <td>48</td>\n",
       "      <td>0</td>\n",
       "      <td>7.07</td>\n",
       "      <td>BR</td>\n",
       "      <td>1601084776</td>\n",
       "      <td>-22.63,-54.82</td>\n",
       "    </tr>\n",
       "    <tr>\n",
       "      <th>489</th>\n",
       "      <td>Kumluca</td>\n",
       "      <td>36.0</td>\n",
       "      <td>30.0</td>\n",
       "      <td>75.51</td>\n",
       "      <td>56</td>\n",
       "      <td>0</td>\n",
       "      <td>3.31</td>\n",
       "      <td>TR</td>\n",
       "      <td>1601084777</td>\n",
       "      <td>36.37,30.29</td>\n",
       "    </tr>\n",
       "    <tr>\n",
       "      <th>505</th>\n",
       "      <td>Sawākin</td>\n",
       "      <td>19.0</td>\n",
       "      <td>37.0</td>\n",
       "      <td>84.61</td>\n",
       "      <td>68</td>\n",
       "      <td>0</td>\n",
       "      <td>6.82</td>\n",
       "      <td>SD</td>\n",
       "      <td>1601084781</td>\n",
       "      <td>19.11,37.33</td>\n",
       "    </tr>\n",
       "    <tr>\n",
       "      <th>509</th>\n",
       "      <td>Nerang</td>\n",
       "      <td>-28.0</td>\n",
       "      <td>153.0</td>\n",
       "      <td>75.99</td>\n",
       "      <td>19</td>\n",
       "      <td>0</td>\n",
       "      <td>7.00</td>\n",
       "      <td>AU</td>\n",
       "      <td>1601084783</td>\n",
       "      <td>-27.98,153.33</td>\n",
       "    </tr>\n",
       "    <tr>\n",
       "      <th>510</th>\n",
       "      <td>Urubichá</td>\n",
       "      <td>-15.0</td>\n",
       "      <td>-63.0</td>\n",
       "      <td>82.29</td>\n",
       "      <td>43</td>\n",
       "      <td>0</td>\n",
       "      <td>3.53</td>\n",
       "      <td>BO</td>\n",
       "      <td>1601084783</td>\n",
       "      <td>-15.38,-62.95</td>\n",
       "    </tr>\n",
       "    <tr>\n",
       "      <th>511</th>\n",
       "      <td>Guerrero Negro</td>\n",
       "      <td>28.0</td>\n",
       "      <td>-114.0</td>\n",
       "      <td>70.93</td>\n",
       "      <td>80</td>\n",
       "      <td>0</td>\n",
       "      <td>13.96</td>\n",
       "      <td>MX</td>\n",
       "      <td>1601084784</td>\n",
       "      <td>27.98,-114.06</td>\n",
       "    </tr>\n",
       "    <tr>\n",
       "      <th>515</th>\n",
       "      <td>Jiwani</td>\n",
       "      <td>25.0</td>\n",
       "      <td>62.0</td>\n",
       "      <td>80.60</td>\n",
       "      <td>77</td>\n",
       "      <td>0</td>\n",
       "      <td>7.76</td>\n",
       "      <td>PK</td>\n",
       "      <td>1601084785</td>\n",
       "      <td>25.05,61.74</td>\n",
       "    </tr>\n",
       "  </tbody>\n",
       "</table>\n",
       "</div>"
      ],
      "text/plain": [
       "                name   lat    lng  max_temp_f  humidity  cloudiness  \\\n",
       "29   Tiznit Province  30.0  -10.0       77.16        40           0   \n",
       "87         Carnarvon -25.0  114.0       71.60        40           0   \n",
       "91           Rosetta  31.0   30.0       77.00        73           0   \n",
       "103            Umluj  25.0   37.0       84.27        48           0   \n",
       "105          Pitimbu  -7.0  -35.0       71.60        88           0   \n",
       "110           Turbat  26.0   63.0       75.25        53           0   \n",
       "118        Caravelas -18.0  -39.0       71.46        86           0   \n",
       "126           Marzuq  14.0   46.0       75.29        45           0   \n",
       "131           Agadez  20.0   10.0       80.89        16           0   \n",
       "146         Feicheng  35.0  118.0       71.46        63           0   \n",
       "186            Wajir   2.0   40.0       71.85        73           0   \n",
       "213            Yatou  37.0  122.0       71.83        64           0   \n",
       "265       Uberlândia -19.0  -48.0       75.00        34           0   \n",
       "284            Abnūb  27.0   31.0       75.20        60           0   \n",
       "292           Jardim -21.0  -56.0       76.96        34           0   \n",
       "294              Sur  23.0   60.0       82.33        54           0   \n",
       "328            Pasni  25.0   63.0       78.64        80           0   \n",
       "351     Coolum Beach -27.0  153.0       75.00        28           0   \n",
       "394           Jhelum  33.0   74.0       76.91        47           0   \n",
       "420         Ajdabiya  31.0   20.0       80.02        29           0   \n",
       "433          Mandera   4.0   42.0       75.38        61           0   \n",
       "478            Gusau  12.0    7.0       73.40        79           0   \n",
       "480          Mosetse -21.0   27.0       71.06        29           0   \n",
       "485          Caarapó -23.0  -55.0       74.16        48           0   \n",
       "489          Kumluca  36.0   30.0       75.51        56           0   \n",
       "505          Sawākin  19.0   37.0       84.61        68           0   \n",
       "509           Nerang -28.0  153.0       75.99        19           0   \n",
       "510         Urubichá -15.0  -63.0       82.29        43           0   \n",
       "511   Guerrero Negro  28.0 -114.0       70.93        80           0   \n",
       "515           Jiwani  25.0   62.0       80.60        77           0   \n",
       "\n",
       "     windspeed country        date        lat_lng  \n",
       "29        3.22      MA  1601084649     29.58,-9.5  \n",
       "87       13.87      AU  1601084662  -24.87,113.63  \n",
       "91        5.82      EG  1601084663     31.4,30.42  \n",
       "103       9.55      SA  1601084666    25.02,37.27  \n",
       "105       4.70      BR  1601084666   -7.47,-34.81  \n",
       "110       2.57      PK  1601084668     26.0,63.04  \n",
       "118       4.79      BR  1601084623  -17.71,-39.25  \n",
       "126       2.98      YE  1601084672     14.4,46.47  \n",
       "131       9.17      NE  1601084673    19.75,10.25  \n",
       "146       7.09      CN  1601084677   35.26,117.97  \n",
       "186      11.63      KE  1601084686     1.75,40.06  \n",
       "213       8.86      CN  1601084421   37.15,122.38  \n",
       "265       4.92      BR  1601084707  -18.92,-48.28  \n",
       "284      11.41      EG  1601084714    27.27,31.15  \n",
       "292       4.05      BR  1601084717  -21.48,-56.14  \n",
       "294       4.63      OM  1601084718    22.57,59.53  \n",
       "328      10.80      PK  1601084655    25.26,63.47  \n",
       "351       5.99      AU  1601084737   -26.53,153.1  \n",
       "394       1.72      PK  1601084750    32.93,73.73  \n",
       "420      11.32      LY  1601084758    30.76,20.23  \n",
       "433      11.81      KE  1601084762     3.94,41.87  \n",
       "478       6.17      NG  1601084775     12.16,6.66  \n",
       "480      11.05      BW  1601084775   -20.75,26.65  \n",
       "485       7.07      BR  1601084776  -22.63,-54.82  \n",
       "489       3.31      TR  1601084777    36.37,30.29  \n",
       "505       6.82      SD  1601084781    19.11,37.33  \n",
       "509       7.00      AU  1601084783  -27.98,153.33  \n",
       "510       3.53      BO  1601084783  -15.38,-62.95  \n",
       "511      13.96      MX  1601084784  27.98,-114.06  \n",
       "515       7.76      PK  1601084785    25.05,61.74  "
      ]
     },
     "execution_count": 18,
     "metadata": {},
     "output_type": "execute_result"
    }
   ],
   "source": [
    "# Ideal city\n",
    "#Temp <85 and >70\n",
    "#Wind < 15\n",
    "# Cloudy is < 10\n",
    "\n",
    "hi_temps = df[df[\"max_temp_f\"] > 85].index\n",
    "low_temps = df[df[\"max_temp_f\"] < 70].index\n",
    "high_winds = df[df[\"windspeed\"] > 15].index\n",
    "cloudy = df[df[\"cloudiness\"] > 0].index\n",
    "\n",
    "df.drop(hi_temps, inplace=True)\n",
    "df.drop(low_temps, inplace=True)\n",
    "df.drop(high_winds, inplace=True)\n",
    "df.drop(cloudy, inplace=True)\n",
    "df"
   ]
  },
  {
   "cell_type": "markdown",
   "metadata": {},
   "source": [
    "### Hotel Map\n",
    "* Store into variable named `hotel_df`.\n",
    "* Add a \"Hotel Name\" column to the DataFrame.\n",
    "* Set parameters to search for hotels with 5000 meters.\n",
    "* Hit the Google Places API for each city's coordinates.\n",
    "* Store the first Hotel result into the DataFrame.\n",
    "* Plot markers on top of the heatmap."
   ]
  },
  {
   "cell_type": "code",
   "execution_count": 19,
   "metadata": {},
   "outputs": [],
   "source": [
    "#create lat/lng string for API calls and add to df\n",
    "df[\"lat_lng\"] = df[\"lat\"].astype(str) + \",\" + df[\"lng\"].astype(str)\n",
    "\n",
    "#create list to iterate over\n",
    "lat_lng_list = df[\"lat_lng\"].tolist()"
   ]
  },
  {
   "cell_type": "code",
   "execution_count": 20,
   "metadata": {},
   "outputs": [],
   "source": [
    "hotels = requests.get(\"https://maps.googleapis.com/maps/api/place/nearbysearch/json\", params={\n",
    "    \"key\": g_key,\n",
    "    \"location\": lat_lng_list,\n",
    "    \"radius\": 50000,\n",
    "    \"keyword\": \"hotel\"\n",
    "}).json()"
   ]
  },
  {
   "cell_type": "code",
   "execution_count": 21,
   "metadata": {},
   "outputs": [
    {
     "data": {
      "text/plain": [
       "{'business_status': 'OPERATIONAL',\n",
       " 'geometry': {'location': {'lat': 30.3970176, 'lng': -9.5965533},\n",
       "  'viewport': {'northeast': {'lat': 30.39837157989272,\n",
       "    'lng': -9.595196070107276},\n",
       "   'southwest': {'lat': 30.39567192010728, 'lng': -9.59789572989272}}},\n",
       " 'icon': 'https://maps.gstatic.com/mapfiles/place_api/icons/lodging-71.png',\n",
       " 'name': 'Iberostar Founty Beach',\n",
       " 'opening_hours': {'open_now': True},\n",
       " 'photos': [{'height': 1253,\n",
       "   'html_attributions': ['<a href=\"https://maps.google.com/maps/contrib/117266401367782358727\">Iberostar Founty Beach</a>'],\n",
       "   'photo_reference': 'CmRaAAAAJtF828UUEr_wakdKIdIkIQGmysWHxH_pY9XtT_FnCh7OEumzICg_7yavcnM0Vcq44Rp6fqKvnZu26l69TylpDwh41rtSG-IxY6UDjdEGdzqRwf-oWXuG_edvJiYy-3RXEhCuSdx9Ym_Q7zPfBO4ZL9glGhQOZIR528c7M4GyQtL1Ih01RlBTLA',\n",
       "   'width': 1874}],\n",
       " 'place_id': 'ChIJmw7r9wK3sw0RQaioZKR25ts',\n",
       " 'plus_code': {'compound_code': '9CW3+R9 Agadir, Morocco',\n",
       "  'global_code': '8C2G9CW3+R9'},\n",
       " 'rating': 4.6,\n",
       " 'reference': 'ChIJmw7r9wK3sw0RQaioZKR25ts',\n",
       " 'scope': 'GOOGLE',\n",
       " 'types': ['spa', 'lodging', 'point_of_interest', 'establishment'],\n",
       " 'user_ratings_total': 3753,\n",
       " 'vicinity': 'BP، Chemin des dunes، Agadir'}"
      ]
     },
     "execution_count": 21,
     "metadata": {},
     "output_type": "execute_result"
    }
   ],
   "source": [
    "hotels[\"results\"][1]"
   ]
  },
  {
   "cell_type": "code",
   "execution_count": 22,
   "metadata": {},
   "outputs": [],
   "source": [
    "#define function for extracting data\n",
    "def extract_data(data):\n",
    "    data = data[\"results\"][0]\n",
    "    return {\n",
    "        \"Hotel Name\" : data[\"name\"],\n",
    "        \"Lat\" : data[\"geometry\"][\"location\"][\"lat\"],\n",
    "        \"Lng\" : data[\"geometry\"][\"location\"][\"lng\"]\n",
    "    }"
   ]
  },
  {
   "cell_type": "code",
   "execution_count": 23,
   "metadata": {},
   "outputs": [
    {
     "name": "stdout",
     "output_type": "stream",
     "text": [
      "Beginning Data Retrieval\n",
      "-------------------------\n",
      "Processing Record 1 | 30.0,-10.0\n",
      "Processing Record 2 | -25.0,114.0\n",
      "Processing Record 3 | 31.0,30.0\n",
      "Processing Record 4 | 25.0,37.0\n",
      "Processing Record 5 | -7.0,-35.0\n",
      "Processing Record 6 | 26.0,63.0\n",
      "Processing Record 7 | -18.0,-39.0\n",
      "Processing Record 8 | 14.0,46.0\n",
      "Processing Record 9 | 20.0,10.0\n",
      "No hotel found. Skipping ...\n",
      "Processing Record 10 | 35.0,118.0\n",
      "Processing Record 11 | 2.0,40.0\n",
      "Processing Record 12 | 37.0,122.0\n",
      "Processing Record 13 | -19.0,-48.0\n",
      "Processing Record 14 | 27.0,31.0\n",
      "Processing Record 15 | -21.0,-56.0\n",
      "Processing Record 16 | 23.0,60.0\n",
      "Processing Record 17 | 25.0,63.0\n",
      "Processing Record 18 | -27.0,153.0\n",
      "Processing Record 19 | 33.0,74.0\n",
      "Processing Record 20 | 31.0,20.0\n",
      "Processing Record 21 | 4.0,42.0\n",
      "Processing Record 22 | 12.0,7.0\n",
      "Processing Record 23 | -21.0,27.0\n",
      "Processing Record 24 | -23.0,-55.0\n",
      "Processing Record 25 | 36.0,30.0\n",
      "Processing Record 26 | 19.0,37.0\n",
      "Processing Record 27 | -28.0,153.0\n",
      "Processing Record 28 | -15.0,-63.0\n",
      "No hotel found. Skipping ...\n",
      "Processing Record 29 | 28.0,-114.0\n",
      "Processing Record 30 | 25.0,62.0\n",
      "-------------------------\n",
      "Data Retrieval Complete\n",
      "-------------------------\n"
     ]
    }
   ],
   "source": [
    "#request data from Google Places api with api calls\n",
    "\n",
    "hotel_results = []\n",
    "\n",
    "#set beginning print statments for output\n",
    "print(\"Beginning Data Retrieval\")\n",
    "print(\"-\" * 25)\n",
    "\n",
    "#set up record counter for output\n",
    "record_counter = 1\n",
    "\n",
    "#create for loop to loop over random city list\n",
    "for coords in lat_lng_list:\n",
    "    \n",
    "    #set up request and include try/except\n",
    "    try:\n",
    "        print(f\"Processing Record {record_counter} | {coords}\")\n",
    "        \n",
    "        record_counter += 1\n",
    "        \n",
    "        data = requests.get(\"https://maps.googleapis.com/maps/api/place/nearbysearch/json\", params={\n",
    "            \"key\": g_key,\n",
    "            \"location\": coords,\n",
    "            \"radius\": 50000,\n",
    "            \"keyword\": \"hotel\"\n",
    "        }).json()\n",
    "    \n",
    "        hotel_result = extract_data(data)\n",
    "    \n",
    "        hotel_results.append(hotel_result)\n",
    "        \n",
    "    except:\n",
    "        print(\"No hotel found. Skipping ...\")\n",
    "        pass\n",
    "    \n",
    "print(\"-\" * 25)\n",
    "print(\"Data Retrieval Complete\")\n",
    "print(\"-\" * 25)"
   ]
  },
  {
   "cell_type": "code",
   "execution_count": 24,
   "metadata": {},
   "outputs": [],
   "source": [
    "hotel_df = pd.DataFrame(hotel_results)"
   ]
  },
  {
   "cell_type": "code",
   "execution_count": 25,
   "metadata": {},
   "outputs": [
    {
     "data": {
      "text/html": [
       "<div>\n",
       "<style scoped>\n",
       "    .dataframe tbody tr th:only-of-type {\n",
       "        vertical-align: middle;\n",
       "    }\n",
       "\n",
       "    .dataframe tbody tr th {\n",
       "        vertical-align: top;\n",
       "    }\n",
       "\n",
       "    .dataframe thead th {\n",
       "        text-align: right;\n",
       "    }\n",
       "</style>\n",
       "<table border=\"1\" class=\"dataframe\">\n",
       "  <thead>\n",
       "    <tr style=\"text-align: right;\">\n",
       "      <th></th>\n",
       "      <th>Hotel Name</th>\n",
       "      <th>Lat</th>\n",
       "      <th>Lng</th>\n",
       "    </tr>\n",
       "  </thead>\n",
       "  <tbody>\n",
       "    <tr>\n",
       "      <th>0</th>\n",
       "      <td>Sofitel Agadir Thalassa sea &amp; spa</td>\n",
       "      <td>30.391594</td>\n",
       "      <td>-9.598151</td>\n",
       "    </tr>\n",
       "    <tr>\n",
       "      <th>1</th>\n",
       "      <td>Carnarvon Motel</td>\n",
       "      <td>-24.880743</td>\n",
       "      <td>113.653285</td>\n",
       "    </tr>\n",
       "    <tr>\n",
       "      <th>2</th>\n",
       "      <td>Iberotel Borg El Arab</td>\n",
       "      <td>30.933228</td>\n",
       "      <td>29.474882</td>\n",
       "    </tr>\n",
       "    <tr>\n",
       "      <th>3</th>\n",
       "      <td>HP Red Sea Hotel</td>\n",
       "      <td>25.032590</td>\n",
       "      <td>37.257006</td>\n",
       "    </tr>\n",
       "    <tr>\n",
       "      <th>4</th>\n",
       "      <td>Solar Tambaú</td>\n",
       "      <td>-7.118989</td>\n",
       "      <td>-34.824536</td>\n",
       "    </tr>\n",
       "    <tr>\n",
       "      <th>5</th>\n",
       "      <td>Shapur Hotel</td>\n",
       "      <td>26.005594</td>\n",
       "      <td>63.058274</td>\n",
       "    </tr>\n",
       "    <tr>\n",
       "      <th>6</th>\n",
       "      <td>Hotel Marina Porto Abrolhos</td>\n",
       "      <td>-17.726083</td>\n",
       "      <td>-39.178418</td>\n",
       "    </tr>\n",
       "    <tr>\n",
       "      <th>7</th>\n",
       "      <td>فندق المدينه</td>\n",
       "      <td>13.882158</td>\n",
       "      <td>45.865266</td>\n",
       "    </tr>\n",
       "    <tr>\n",
       "      <th>8</th>\n",
       "      <td>Pullman Linyi Lushang</td>\n",
       "      <td>35.074820</td>\n",
       "      <td>118.357027</td>\n",
       "    </tr>\n",
       "    <tr>\n",
       "      <th>9</th>\n",
       "      <td>Wajir Palace Hotel</td>\n",
       "      <td>1.742667</td>\n",
       "      <td>40.074269</td>\n",
       "    </tr>\n",
       "    <tr>\n",
       "      <th>10</th>\n",
       "      <td>Bliss International Hotel</td>\n",
       "      <td>37.421986</td>\n",
       "      <td>122.166254</td>\n",
       "    </tr>\n",
       "    <tr>\n",
       "      <th>11</th>\n",
       "      <td>Pousada Rainha do Cerrado</td>\n",
       "      <td>-18.881673</td>\n",
       "      <td>-47.585335</td>\n",
       "    </tr>\n",
       "    <tr>\n",
       "      <th>12</th>\n",
       "      <td>بيت القديسة مريم St Marie House</td>\n",
       "      <td>27.115807</td>\n",
       "      <td>31.170696</td>\n",
       "    </tr>\n",
       "    <tr>\n",
       "      <th>13</th>\n",
       "      <td>Solar Cerrado</td>\n",
       "      <td>-21.129835</td>\n",
       "      <td>-56.476742</td>\n",
       "    </tr>\n",
       "    <tr>\n",
       "      <th>14</th>\n",
       "      <td>Zaki Hotel Apartment</td>\n",
       "      <td>22.575966</td>\n",
       "      <td>59.521530</td>\n",
       "    </tr>\n",
       "    <tr>\n",
       "      <th>15</th>\n",
       "      <td>Juddi Hotel</td>\n",
       "      <td>25.266822</td>\n",
       "      <td>63.473556</td>\n",
       "    </tr>\n",
       "    <tr>\n",
       "      <th>16</th>\n",
       "      <td>ibis Brisbane Airport</td>\n",
       "      <td>-27.386496</td>\n",
       "      <td>153.116485</td>\n",
       "    </tr>\n",
       "    <tr>\n",
       "      <th>17</th>\n",
       "      <td>Grand Regency Hotel Mirpur</td>\n",
       "      <td>33.149444</td>\n",
       "      <td>73.736111</td>\n",
       "    </tr>\n",
       "    <tr>\n",
       "      <th>18</th>\n",
       "      <td>Almadina Hotel</td>\n",
       "      <td>30.757527</td>\n",
       "      <td>20.224074</td>\n",
       "    </tr>\n",
       "    <tr>\n",
       "      <th>19</th>\n",
       "      <td>Granada hotel Mandera</td>\n",
       "      <td>3.944629</td>\n",
       "      <td>41.863233</td>\n",
       "    </tr>\n",
       "    <tr>\n",
       "      <th>20</th>\n",
       "      <td>Crystal Merit Suite and Apartments</td>\n",
       "      <td>12.183064</td>\n",
       "      <td>6.660499</td>\n",
       "    </tr>\n",
       "    <tr>\n",
       "      <th>21</th>\n",
       "      <td>Woodlands Stop Over and Lodge</td>\n",
       "      <td>-21.081570</td>\n",
       "      <td>27.464040</td>\n",
       "    </tr>\n",
       "    <tr>\n",
       "      <th>22</th>\n",
       "      <td>Hotel Royal em Amambai</td>\n",
       "      <td>-23.104830</td>\n",
       "      <td>-55.221820</td>\n",
       "    </tr>\n",
       "    <tr>\n",
       "      <th>23</th>\n",
       "      <td>Doria Hotel &amp; Yacht Club</td>\n",
       "      <td>36.206867</td>\n",
       "      <td>29.623324</td>\n",
       "    </tr>\n",
       "    <tr>\n",
       "      <th>24</th>\n",
       "      <td>Resort Hotel Arquette</td>\n",
       "      <td>18.779824</td>\n",
       "      <td>37.109772</td>\n",
       "    </tr>\n",
       "    <tr>\n",
       "      <th>25</th>\n",
       "      <td>Palazzo Versace Gold Coast</td>\n",
       "      <td>-27.967179</td>\n",
       "      <td>153.426613</td>\n",
       "    </tr>\n",
       "    <tr>\n",
       "      <th>26</th>\n",
       "      <td>Hotel Los Caracoles</td>\n",
       "      <td>27.967758</td>\n",
       "      <td>-114.028336</td>\n",
       "    </tr>\n",
       "    <tr>\n",
       "      <th>27</th>\n",
       "      <td>Zaver Pearl Continental Hotel</td>\n",
       "      <td>25.103912</td>\n",
       "      <td>62.328666</td>\n",
       "    </tr>\n",
       "  </tbody>\n",
       "</table>\n",
       "</div>"
      ],
      "text/plain": [
       "                            Hotel Name        Lat         Lng\n",
       "0    Sofitel Agadir Thalassa sea & spa  30.391594   -9.598151\n",
       "1                      Carnarvon Motel -24.880743  113.653285\n",
       "2                Iberotel Borg El Arab  30.933228   29.474882\n",
       "3                     HP Red Sea Hotel  25.032590   37.257006\n",
       "4                         Solar Tambaú  -7.118989  -34.824536\n",
       "5                         Shapur Hotel  26.005594   63.058274\n",
       "6          Hotel Marina Porto Abrolhos -17.726083  -39.178418\n",
       "7                         فندق المدينه  13.882158   45.865266\n",
       "8                Pullman Linyi Lushang  35.074820  118.357027\n",
       "9                   Wajir Palace Hotel   1.742667   40.074269\n",
       "10           Bliss International Hotel  37.421986  122.166254\n",
       "11           Pousada Rainha do Cerrado -18.881673  -47.585335\n",
       "12     بيت القديسة مريم St Marie House  27.115807   31.170696\n",
       "13                       Solar Cerrado -21.129835  -56.476742\n",
       "14                Zaki Hotel Apartment  22.575966   59.521530\n",
       "15                         Juddi Hotel  25.266822   63.473556\n",
       "16               ibis Brisbane Airport -27.386496  153.116485\n",
       "17          Grand Regency Hotel Mirpur  33.149444   73.736111\n",
       "18                      Almadina Hotel  30.757527   20.224074\n",
       "19               Granada hotel Mandera   3.944629   41.863233\n",
       "20  Crystal Merit Suite and Apartments  12.183064    6.660499\n",
       "21       Woodlands Stop Over and Lodge -21.081570   27.464040\n",
       "22              Hotel Royal em Amambai -23.104830  -55.221820\n",
       "23            Doria Hotel & Yacht Club  36.206867   29.623324\n",
       "24               Resort Hotel Arquette  18.779824   37.109772\n",
       "25          Palazzo Versace Gold Coast -27.967179  153.426613\n",
       "26                 Hotel Los Caracoles  27.967758 -114.028336\n",
       "27       Zaver Pearl Continental Hotel  25.103912   62.328666"
      ]
     },
     "execution_count": 25,
     "metadata": {},
     "output_type": "execute_result"
    }
   ],
   "source": [
    "hotel_df"
   ]
  },
  {
   "cell_type": "code",
   "execution_count": null,
   "metadata": {},
   "outputs": [],
   "source": [
    "# Add marker layer ontop of heat map\n",
    "\n",
    "\n",
    "# Display figure\n"
   ]
  },
  {
   "cell_type": "code",
   "execution_count": 26,
   "metadata": {},
   "outputs": [],
   "source": [
    "#round lat and lng columns in both dataframes in order to merge for plotting\n",
    "df = df.round({'lat': 0, 'lng': 0})\n",
    "hotel_df = hotel_df.round({'Lat': 0, 'Lng': 0})"
   ]
  },
  {
   "cell_type": "code",
   "execution_count": 27,
   "metadata": {},
   "outputs": [
    {
     "data": {
      "text/html": [
       "<div>\n",
       "<style scoped>\n",
       "    .dataframe tbody tr th:only-of-type {\n",
       "        vertical-align: middle;\n",
       "    }\n",
       "\n",
       "    .dataframe tbody tr th {\n",
       "        vertical-align: top;\n",
       "    }\n",
       "\n",
       "    .dataframe thead th {\n",
       "        text-align: right;\n",
       "    }\n",
       "</style>\n",
       "<table border=\"1\" class=\"dataframe\">\n",
       "  <thead>\n",
       "    <tr style=\"text-align: right;\">\n",
       "      <th></th>\n",
       "      <th>Hotel Name</th>\n",
       "      <th>Lat</th>\n",
       "      <th>Lng</th>\n",
       "      <th>name</th>\n",
       "      <th>lat</th>\n",
       "      <th>lng</th>\n",
       "      <th>max_temp_f</th>\n",
       "      <th>humidity</th>\n",
       "      <th>cloudiness</th>\n",
       "      <th>windspeed</th>\n",
       "      <th>country</th>\n",
       "      <th>date</th>\n",
       "      <th>lat_lng</th>\n",
       "    </tr>\n",
       "  </thead>\n",
       "  <tbody>\n",
       "    <tr>\n",
       "      <th>0</th>\n",
       "      <td>Sofitel Agadir Thalassa sea &amp; spa</td>\n",
       "      <td>30.0</td>\n",
       "      <td>-10.0</td>\n",
       "      <td>Tiznit Province</td>\n",
       "      <td>30.0</td>\n",
       "      <td>-10.0</td>\n",
       "      <td>77.16</td>\n",
       "      <td>40.0</td>\n",
       "      <td>0.0</td>\n",
       "      <td>3.22</td>\n",
       "      <td>MA</td>\n",
       "      <td>1.601085e+09</td>\n",
       "      <td>30.0,-10.0</td>\n",
       "    </tr>\n",
       "    <tr>\n",
       "      <th>1</th>\n",
       "      <td>Carnarvon Motel</td>\n",
       "      <td>-25.0</td>\n",
       "      <td>114.0</td>\n",
       "      <td>Carnarvon</td>\n",
       "      <td>-25.0</td>\n",
       "      <td>114.0</td>\n",
       "      <td>71.60</td>\n",
       "      <td>40.0</td>\n",
       "      <td>0.0</td>\n",
       "      <td>13.87</td>\n",
       "      <td>AU</td>\n",
       "      <td>1.601085e+09</td>\n",
       "      <td>-25.0,114.0</td>\n",
       "    </tr>\n",
       "    <tr>\n",
       "      <th>2</th>\n",
       "      <td>Iberotel Borg El Arab</td>\n",
       "      <td>31.0</td>\n",
       "      <td>29.0</td>\n",
       "      <td>NaN</td>\n",
       "      <td>NaN</td>\n",
       "      <td>NaN</td>\n",
       "      <td>NaN</td>\n",
       "      <td>NaN</td>\n",
       "      <td>NaN</td>\n",
       "      <td>NaN</td>\n",
       "      <td>NaN</td>\n",
       "      <td>NaN</td>\n",
       "      <td>NaN</td>\n",
       "    </tr>\n",
       "    <tr>\n",
       "      <th>3</th>\n",
       "      <td>HP Red Sea Hotel</td>\n",
       "      <td>25.0</td>\n",
       "      <td>37.0</td>\n",
       "      <td>Umluj</td>\n",
       "      <td>25.0</td>\n",
       "      <td>37.0</td>\n",
       "      <td>84.27</td>\n",
       "      <td>48.0</td>\n",
       "      <td>0.0</td>\n",
       "      <td>9.55</td>\n",
       "      <td>SA</td>\n",
       "      <td>1.601085e+09</td>\n",
       "      <td>25.0,37.0</td>\n",
       "    </tr>\n",
       "    <tr>\n",
       "      <th>4</th>\n",
       "      <td>Solar Tambaú</td>\n",
       "      <td>-7.0</td>\n",
       "      <td>-35.0</td>\n",
       "      <td>Pitimbu</td>\n",
       "      <td>-7.0</td>\n",
       "      <td>-35.0</td>\n",
       "      <td>71.60</td>\n",
       "      <td>88.0</td>\n",
       "      <td>0.0</td>\n",
       "      <td>4.70</td>\n",
       "      <td>BR</td>\n",
       "      <td>1.601085e+09</td>\n",
       "      <td>-7.0,-35.0</td>\n",
       "    </tr>\n",
       "    <tr>\n",
       "      <th>5</th>\n",
       "      <td>Shapur Hotel</td>\n",
       "      <td>26.0</td>\n",
       "      <td>63.0</td>\n",
       "      <td>Turbat</td>\n",
       "      <td>26.0</td>\n",
       "      <td>63.0</td>\n",
       "      <td>75.25</td>\n",
       "      <td>53.0</td>\n",
       "      <td>0.0</td>\n",
       "      <td>2.57</td>\n",
       "      <td>PK</td>\n",
       "      <td>1.601085e+09</td>\n",
       "      <td>26.0,63.0</td>\n",
       "    </tr>\n",
       "    <tr>\n",
       "      <th>6</th>\n",
       "      <td>Hotel Marina Porto Abrolhos</td>\n",
       "      <td>-18.0</td>\n",
       "      <td>-39.0</td>\n",
       "      <td>Caravelas</td>\n",
       "      <td>-18.0</td>\n",
       "      <td>-39.0</td>\n",
       "      <td>71.46</td>\n",
       "      <td>86.0</td>\n",
       "      <td>0.0</td>\n",
       "      <td>4.79</td>\n",
       "      <td>BR</td>\n",
       "      <td>1.601085e+09</td>\n",
       "      <td>-18.0,-39.0</td>\n",
       "    </tr>\n",
       "    <tr>\n",
       "      <th>7</th>\n",
       "      <td>فندق المدينه</td>\n",
       "      <td>14.0</td>\n",
       "      <td>46.0</td>\n",
       "      <td>Marzuq</td>\n",
       "      <td>14.0</td>\n",
       "      <td>46.0</td>\n",
       "      <td>75.29</td>\n",
       "      <td>45.0</td>\n",
       "      <td>0.0</td>\n",
       "      <td>2.98</td>\n",
       "      <td>YE</td>\n",
       "      <td>1.601085e+09</td>\n",
       "      <td>14.0,46.0</td>\n",
       "    </tr>\n",
       "    <tr>\n",
       "      <th>8</th>\n",
       "      <td>Pullman Linyi Lushang</td>\n",
       "      <td>35.0</td>\n",
       "      <td>118.0</td>\n",
       "      <td>Feicheng</td>\n",
       "      <td>35.0</td>\n",
       "      <td>118.0</td>\n",
       "      <td>71.46</td>\n",
       "      <td>63.0</td>\n",
       "      <td>0.0</td>\n",
       "      <td>7.09</td>\n",
       "      <td>CN</td>\n",
       "      <td>1.601085e+09</td>\n",
       "      <td>35.0,118.0</td>\n",
       "    </tr>\n",
       "    <tr>\n",
       "      <th>9</th>\n",
       "      <td>Wajir Palace Hotel</td>\n",
       "      <td>2.0</td>\n",
       "      <td>40.0</td>\n",
       "      <td>Wajir</td>\n",
       "      <td>2.0</td>\n",
       "      <td>40.0</td>\n",
       "      <td>71.85</td>\n",
       "      <td>73.0</td>\n",
       "      <td>0.0</td>\n",
       "      <td>11.63</td>\n",
       "      <td>KE</td>\n",
       "      <td>1.601085e+09</td>\n",
       "      <td>2.0,40.0</td>\n",
       "    </tr>\n",
       "    <tr>\n",
       "      <th>10</th>\n",
       "      <td>Bliss International Hotel</td>\n",
       "      <td>37.0</td>\n",
       "      <td>122.0</td>\n",
       "      <td>Yatou</td>\n",
       "      <td>37.0</td>\n",
       "      <td>122.0</td>\n",
       "      <td>71.83</td>\n",
       "      <td>64.0</td>\n",
       "      <td>0.0</td>\n",
       "      <td>8.86</td>\n",
       "      <td>CN</td>\n",
       "      <td>1.601084e+09</td>\n",
       "      <td>37.0,122.0</td>\n",
       "    </tr>\n",
       "    <tr>\n",
       "      <th>11</th>\n",
       "      <td>Pousada Rainha do Cerrado</td>\n",
       "      <td>-19.0</td>\n",
       "      <td>-48.0</td>\n",
       "      <td>Uberlândia</td>\n",
       "      <td>-19.0</td>\n",
       "      <td>-48.0</td>\n",
       "      <td>75.00</td>\n",
       "      <td>34.0</td>\n",
       "      <td>0.0</td>\n",
       "      <td>4.92</td>\n",
       "      <td>BR</td>\n",
       "      <td>1.601085e+09</td>\n",
       "      <td>-19.0,-48.0</td>\n",
       "    </tr>\n",
       "    <tr>\n",
       "      <th>12</th>\n",
       "      <td>بيت القديسة مريم St Marie House</td>\n",
       "      <td>27.0</td>\n",
       "      <td>31.0</td>\n",
       "      <td>Abnūb</td>\n",
       "      <td>27.0</td>\n",
       "      <td>31.0</td>\n",
       "      <td>75.20</td>\n",
       "      <td>60.0</td>\n",
       "      <td>0.0</td>\n",
       "      <td>11.41</td>\n",
       "      <td>EG</td>\n",
       "      <td>1.601085e+09</td>\n",
       "      <td>27.0,31.0</td>\n",
       "    </tr>\n",
       "    <tr>\n",
       "      <th>13</th>\n",
       "      <td>Solar Cerrado</td>\n",
       "      <td>-21.0</td>\n",
       "      <td>-56.0</td>\n",
       "      <td>Jardim</td>\n",
       "      <td>-21.0</td>\n",
       "      <td>-56.0</td>\n",
       "      <td>76.96</td>\n",
       "      <td>34.0</td>\n",
       "      <td>0.0</td>\n",
       "      <td>4.05</td>\n",
       "      <td>BR</td>\n",
       "      <td>1.601085e+09</td>\n",
       "      <td>-21.0,-56.0</td>\n",
       "    </tr>\n",
       "    <tr>\n",
       "      <th>14</th>\n",
       "      <td>Zaki Hotel Apartment</td>\n",
       "      <td>23.0</td>\n",
       "      <td>60.0</td>\n",
       "      <td>Sur</td>\n",
       "      <td>23.0</td>\n",
       "      <td>60.0</td>\n",
       "      <td>82.33</td>\n",
       "      <td>54.0</td>\n",
       "      <td>0.0</td>\n",
       "      <td>4.63</td>\n",
       "      <td>OM</td>\n",
       "      <td>1.601085e+09</td>\n",
       "      <td>23.0,60.0</td>\n",
       "    </tr>\n",
       "    <tr>\n",
       "      <th>15</th>\n",
       "      <td>Juddi Hotel</td>\n",
       "      <td>25.0</td>\n",
       "      <td>63.0</td>\n",
       "      <td>Pasni</td>\n",
       "      <td>25.0</td>\n",
       "      <td>63.0</td>\n",
       "      <td>78.64</td>\n",
       "      <td>80.0</td>\n",
       "      <td>0.0</td>\n",
       "      <td>10.80</td>\n",
       "      <td>PK</td>\n",
       "      <td>1.601085e+09</td>\n",
       "      <td>25.0,63.0</td>\n",
       "    </tr>\n",
       "    <tr>\n",
       "      <th>16</th>\n",
       "      <td>ibis Brisbane Airport</td>\n",
       "      <td>-27.0</td>\n",
       "      <td>153.0</td>\n",
       "      <td>Coolum Beach</td>\n",
       "      <td>-27.0</td>\n",
       "      <td>153.0</td>\n",
       "      <td>75.00</td>\n",
       "      <td>28.0</td>\n",
       "      <td>0.0</td>\n",
       "      <td>5.99</td>\n",
       "      <td>AU</td>\n",
       "      <td>1.601085e+09</td>\n",
       "      <td>-27.0,153.0</td>\n",
       "    </tr>\n",
       "    <tr>\n",
       "      <th>17</th>\n",
       "      <td>Grand Regency Hotel Mirpur</td>\n",
       "      <td>33.0</td>\n",
       "      <td>74.0</td>\n",
       "      <td>Jhelum</td>\n",
       "      <td>33.0</td>\n",
       "      <td>74.0</td>\n",
       "      <td>76.91</td>\n",
       "      <td>47.0</td>\n",
       "      <td>0.0</td>\n",
       "      <td>1.72</td>\n",
       "      <td>PK</td>\n",
       "      <td>1.601085e+09</td>\n",
       "      <td>33.0,74.0</td>\n",
       "    </tr>\n",
       "    <tr>\n",
       "      <th>18</th>\n",
       "      <td>Almadina Hotel</td>\n",
       "      <td>31.0</td>\n",
       "      <td>20.0</td>\n",
       "      <td>Ajdabiya</td>\n",
       "      <td>31.0</td>\n",
       "      <td>20.0</td>\n",
       "      <td>80.02</td>\n",
       "      <td>29.0</td>\n",
       "      <td>0.0</td>\n",
       "      <td>11.32</td>\n",
       "      <td>LY</td>\n",
       "      <td>1.601085e+09</td>\n",
       "      <td>31.0,20.0</td>\n",
       "    </tr>\n",
       "    <tr>\n",
       "      <th>19</th>\n",
       "      <td>Granada hotel Mandera</td>\n",
       "      <td>4.0</td>\n",
       "      <td>42.0</td>\n",
       "      <td>Mandera</td>\n",
       "      <td>4.0</td>\n",
       "      <td>42.0</td>\n",
       "      <td>75.38</td>\n",
       "      <td>61.0</td>\n",
       "      <td>0.0</td>\n",
       "      <td>11.81</td>\n",
       "      <td>KE</td>\n",
       "      <td>1.601085e+09</td>\n",
       "      <td>4.0,42.0</td>\n",
       "    </tr>\n",
       "    <tr>\n",
       "      <th>20</th>\n",
       "      <td>Crystal Merit Suite and Apartments</td>\n",
       "      <td>12.0</td>\n",
       "      <td>7.0</td>\n",
       "      <td>Gusau</td>\n",
       "      <td>12.0</td>\n",
       "      <td>7.0</td>\n",
       "      <td>73.40</td>\n",
       "      <td>79.0</td>\n",
       "      <td>0.0</td>\n",
       "      <td>6.17</td>\n",
       "      <td>NG</td>\n",
       "      <td>1.601085e+09</td>\n",
       "      <td>12.0,7.0</td>\n",
       "    </tr>\n",
       "    <tr>\n",
       "      <th>21</th>\n",
       "      <td>Woodlands Stop Over and Lodge</td>\n",
       "      <td>-21.0</td>\n",
       "      <td>27.0</td>\n",
       "      <td>Mosetse</td>\n",
       "      <td>-21.0</td>\n",
       "      <td>27.0</td>\n",
       "      <td>71.06</td>\n",
       "      <td>29.0</td>\n",
       "      <td>0.0</td>\n",
       "      <td>11.05</td>\n",
       "      <td>BW</td>\n",
       "      <td>1.601085e+09</td>\n",
       "      <td>-21.0,27.0</td>\n",
       "    </tr>\n",
       "    <tr>\n",
       "      <th>22</th>\n",
       "      <td>Hotel Royal em Amambai</td>\n",
       "      <td>-23.0</td>\n",
       "      <td>-55.0</td>\n",
       "      <td>Caarapó</td>\n",
       "      <td>-23.0</td>\n",
       "      <td>-55.0</td>\n",
       "      <td>74.16</td>\n",
       "      <td>48.0</td>\n",
       "      <td>0.0</td>\n",
       "      <td>7.07</td>\n",
       "      <td>BR</td>\n",
       "      <td>1.601085e+09</td>\n",
       "      <td>-23.0,-55.0</td>\n",
       "    </tr>\n",
       "    <tr>\n",
       "      <th>23</th>\n",
       "      <td>Doria Hotel &amp; Yacht Club</td>\n",
       "      <td>36.0</td>\n",
       "      <td>30.0</td>\n",
       "      <td>Kumluca</td>\n",
       "      <td>36.0</td>\n",
       "      <td>30.0</td>\n",
       "      <td>75.51</td>\n",
       "      <td>56.0</td>\n",
       "      <td>0.0</td>\n",
       "      <td>3.31</td>\n",
       "      <td>TR</td>\n",
       "      <td>1.601085e+09</td>\n",
       "      <td>36.0,30.0</td>\n",
       "    </tr>\n",
       "    <tr>\n",
       "      <th>24</th>\n",
       "      <td>Resort Hotel Arquette</td>\n",
       "      <td>19.0</td>\n",
       "      <td>37.0</td>\n",
       "      <td>Sawākin</td>\n",
       "      <td>19.0</td>\n",
       "      <td>37.0</td>\n",
       "      <td>84.61</td>\n",
       "      <td>68.0</td>\n",
       "      <td>0.0</td>\n",
       "      <td>6.82</td>\n",
       "      <td>SD</td>\n",
       "      <td>1.601085e+09</td>\n",
       "      <td>19.0,37.0</td>\n",
       "    </tr>\n",
       "    <tr>\n",
       "      <th>25</th>\n",
       "      <td>Palazzo Versace Gold Coast</td>\n",
       "      <td>-28.0</td>\n",
       "      <td>153.0</td>\n",
       "      <td>Nerang</td>\n",
       "      <td>-28.0</td>\n",
       "      <td>153.0</td>\n",
       "      <td>75.99</td>\n",
       "      <td>19.0</td>\n",
       "      <td>0.0</td>\n",
       "      <td>7.00</td>\n",
       "      <td>AU</td>\n",
       "      <td>1.601085e+09</td>\n",
       "      <td>-28.0,153.0</td>\n",
       "    </tr>\n",
       "    <tr>\n",
       "      <th>26</th>\n",
       "      <td>Hotel Los Caracoles</td>\n",
       "      <td>28.0</td>\n",
       "      <td>-114.0</td>\n",
       "      <td>Guerrero Negro</td>\n",
       "      <td>28.0</td>\n",
       "      <td>-114.0</td>\n",
       "      <td>70.93</td>\n",
       "      <td>80.0</td>\n",
       "      <td>0.0</td>\n",
       "      <td>13.96</td>\n",
       "      <td>MX</td>\n",
       "      <td>1.601085e+09</td>\n",
       "      <td>28.0,-114.0</td>\n",
       "    </tr>\n",
       "    <tr>\n",
       "      <th>27</th>\n",
       "      <td>Zaver Pearl Continental Hotel</td>\n",
       "      <td>25.0</td>\n",
       "      <td>62.0</td>\n",
       "      <td>Jiwani</td>\n",
       "      <td>25.0</td>\n",
       "      <td>62.0</td>\n",
       "      <td>80.60</td>\n",
       "      <td>77.0</td>\n",
       "      <td>0.0</td>\n",
       "      <td>7.76</td>\n",
       "      <td>PK</td>\n",
       "      <td>1.601085e+09</td>\n",
       "      <td>25.0,62.0</td>\n",
       "    </tr>\n",
       "  </tbody>\n",
       "</table>\n",
       "</div>"
      ],
      "text/plain": [
       "                            Hotel Name   Lat    Lng             name   lat  \\\n",
       "0    Sofitel Agadir Thalassa sea & spa  30.0  -10.0  Tiznit Province  30.0   \n",
       "1                      Carnarvon Motel -25.0  114.0        Carnarvon -25.0   \n",
       "2                Iberotel Borg El Arab  31.0   29.0              NaN   NaN   \n",
       "3                     HP Red Sea Hotel  25.0   37.0            Umluj  25.0   \n",
       "4                         Solar Tambaú  -7.0  -35.0          Pitimbu  -7.0   \n",
       "5                         Shapur Hotel  26.0   63.0           Turbat  26.0   \n",
       "6          Hotel Marina Porto Abrolhos -18.0  -39.0        Caravelas -18.0   \n",
       "7                         فندق المدينه  14.0   46.0           Marzuq  14.0   \n",
       "8                Pullman Linyi Lushang  35.0  118.0         Feicheng  35.0   \n",
       "9                   Wajir Palace Hotel   2.0   40.0            Wajir   2.0   \n",
       "10           Bliss International Hotel  37.0  122.0            Yatou  37.0   \n",
       "11           Pousada Rainha do Cerrado -19.0  -48.0       Uberlândia -19.0   \n",
       "12     بيت القديسة مريم St Marie House  27.0   31.0            Abnūb  27.0   \n",
       "13                       Solar Cerrado -21.0  -56.0           Jardim -21.0   \n",
       "14                Zaki Hotel Apartment  23.0   60.0              Sur  23.0   \n",
       "15                         Juddi Hotel  25.0   63.0            Pasni  25.0   \n",
       "16               ibis Brisbane Airport -27.0  153.0     Coolum Beach -27.0   \n",
       "17          Grand Regency Hotel Mirpur  33.0   74.0           Jhelum  33.0   \n",
       "18                      Almadina Hotel  31.0   20.0         Ajdabiya  31.0   \n",
       "19               Granada hotel Mandera   4.0   42.0          Mandera   4.0   \n",
       "20  Crystal Merit Suite and Apartments  12.0    7.0            Gusau  12.0   \n",
       "21       Woodlands Stop Over and Lodge -21.0   27.0          Mosetse -21.0   \n",
       "22              Hotel Royal em Amambai -23.0  -55.0          Caarapó -23.0   \n",
       "23            Doria Hotel & Yacht Club  36.0   30.0          Kumluca  36.0   \n",
       "24               Resort Hotel Arquette  19.0   37.0          Sawākin  19.0   \n",
       "25          Palazzo Versace Gold Coast -28.0  153.0           Nerang -28.0   \n",
       "26                 Hotel Los Caracoles  28.0 -114.0   Guerrero Negro  28.0   \n",
       "27       Zaver Pearl Continental Hotel  25.0   62.0           Jiwani  25.0   \n",
       "\n",
       "      lng  max_temp_f  humidity  cloudiness  windspeed country          date  \\\n",
       "0   -10.0       77.16      40.0         0.0       3.22      MA  1.601085e+09   \n",
       "1   114.0       71.60      40.0         0.0      13.87      AU  1.601085e+09   \n",
       "2     NaN         NaN       NaN         NaN        NaN     NaN           NaN   \n",
       "3    37.0       84.27      48.0         0.0       9.55      SA  1.601085e+09   \n",
       "4   -35.0       71.60      88.0         0.0       4.70      BR  1.601085e+09   \n",
       "5    63.0       75.25      53.0         0.0       2.57      PK  1.601085e+09   \n",
       "6   -39.0       71.46      86.0         0.0       4.79      BR  1.601085e+09   \n",
       "7    46.0       75.29      45.0         0.0       2.98      YE  1.601085e+09   \n",
       "8   118.0       71.46      63.0         0.0       7.09      CN  1.601085e+09   \n",
       "9    40.0       71.85      73.0         0.0      11.63      KE  1.601085e+09   \n",
       "10  122.0       71.83      64.0         0.0       8.86      CN  1.601084e+09   \n",
       "11  -48.0       75.00      34.0         0.0       4.92      BR  1.601085e+09   \n",
       "12   31.0       75.20      60.0         0.0      11.41      EG  1.601085e+09   \n",
       "13  -56.0       76.96      34.0         0.0       4.05      BR  1.601085e+09   \n",
       "14   60.0       82.33      54.0         0.0       4.63      OM  1.601085e+09   \n",
       "15   63.0       78.64      80.0         0.0      10.80      PK  1.601085e+09   \n",
       "16  153.0       75.00      28.0         0.0       5.99      AU  1.601085e+09   \n",
       "17   74.0       76.91      47.0         0.0       1.72      PK  1.601085e+09   \n",
       "18   20.0       80.02      29.0         0.0      11.32      LY  1.601085e+09   \n",
       "19   42.0       75.38      61.0         0.0      11.81      KE  1.601085e+09   \n",
       "20    7.0       73.40      79.0         0.0       6.17      NG  1.601085e+09   \n",
       "21   27.0       71.06      29.0         0.0      11.05      BW  1.601085e+09   \n",
       "22  -55.0       74.16      48.0         0.0       7.07      BR  1.601085e+09   \n",
       "23   30.0       75.51      56.0         0.0       3.31      TR  1.601085e+09   \n",
       "24   37.0       84.61      68.0         0.0       6.82      SD  1.601085e+09   \n",
       "25  153.0       75.99      19.0         0.0       7.00      AU  1.601085e+09   \n",
       "26 -114.0       70.93      80.0         0.0      13.96      MX  1.601085e+09   \n",
       "27   62.0       80.60      77.0         0.0       7.76      PK  1.601085e+09   \n",
       "\n",
       "        lat_lng  \n",
       "0    30.0,-10.0  \n",
       "1   -25.0,114.0  \n",
       "2           NaN  \n",
       "3     25.0,37.0  \n",
       "4    -7.0,-35.0  \n",
       "5     26.0,63.0  \n",
       "6   -18.0,-39.0  \n",
       "7     14.0,46.0  \n",
       "8    35.0,118.0  \n",
       "9      2.0,40.0  \n",
       "10   37.0,122.0  \n",
       "11  -19.0,-48.0  \n",
       "12    27.0,31.0  \n",
       "13  -21.0,-56.0  \n",
       "14    23.0,60.0  \n",
       "15    25.0,63.0  \n",
       "16  -27.0,153.0  \n",
       "17    33.0,74.0  \n",
       "18    31.0,20.0  \n",
       "19     4.0,42.0  \n",
       "20     12.0,7.0  \n",
       "21   -21.0,27.0  \n",
       "22  -23.0,-55.0  \n",
       "23    36.0,30.0  \n",
       "24    19.0,37.0  \n",
       "25  -28.0,153.0  \n",
       "26  28.0,-114.0  \n",
       "27    25.0,62.0  "
      ]
     },
     "execution_count": 27,
     "metadata": {},
     "output_type": "execute_result"
    }
   ],
   "source": [
    "#merge dataframes on lat and lng columns for plotting\n",
    "merged_df = pd.merge(hotel_df, df, how=\"left\", left_on=[\"Lat\", \"Lng\"], right_on=[\"lat\", \"lng\"])\n",
    "merged_df"
   ]
  },
  {
   "cell_type": "code",
   "execution_count": 28,
   "metadata": {},
   "outputs": [
    {
     "data": {
      "text/html": [
       "<div>\n",
       "<style scoped>\n",
       "    .dataframe tbody tr th:only-of-type {\n",
       "        vertical-align: middle;\n",
       "    }\n",
       "\n",
       "    .dataframe tbody tr th {\n",
       "        vertical-align: top;\n",
       "    }\n",
       "\n",
       "    .dataframe thead th {\n",
       "        text-align: right;\n",
       "    }\n",
       "</style>\n",
       "<table border=\"1\" class=\"dataframe\">\n",
       "  <thead>\n",
       "    <tr style=\"text-align: right;\">\n",
       "      <th></th>\n",
       "      <th>Hotel Name</th>\n",
       "      <th>Lat</th>\n",
       "      <th>Lng</th>\n",
       "      <th>City</th>\n",
       "      <th>lat</th>\n",
       "      <th>lng</th>\n",
       "      <th>max_temp_f</th>\n",
       "      <th>Humidity</th>\n",
       "      <th>cloudiness</th>\n",
       "      <th>windspeed</th>\n",
       "      <th>Country</th>\n",
       "      <th>date</th>\n",
       "      <th>lat_lng</th>\n",
       "    </tr>\n",
       "  </thead>\n",
       "  <tbody>\n",
       "    <tr>\n",
       "      <th>0</th>\n",
       "      <td>Sofitel Agadir Thalassa sea &amp; spa</td>\n",
       "      <td>30.0</td>\n",
       "      <td>-10.0</td>\n",
       "      <td>Tiznit Province</td>\n",
       "      <td>30.0</td>\n",
       "      <td>-10.0</td>\n",
       "      <td>77.16</td>\n",
       "      <td>40.0</td>\n",
       "      <td>0.0</td>\n",
       "      <td>3.22</td>\n",
       "      <td>MA</td>\n",
       "      <td>1.601085e+09</td>\n",
       "      <td>30.0,-10.0</td>\n",
       "    </tr>\n",
       "    <tr>\n",
       "      <th>1</th>\n",
       "      <td>Carnarvon Motel</td>\n",
       "      <td>-25.0</td>\n",
       "      <td>114.0</td>\n",
       "      <td>Carnarvon</td>\n",
       "      <td>-25.0</td>\n",
       "      <td>114.0</td>\n",
       "      <td>71.60</td>\n",
       "      <td>40.0</td>\n",
       "      <td>0.0</td>\n",
       "      <td>13.87</td>\n",
       "      <td>AU</td>\n",
       "      <td>1.601085e+09</td>\n",
       "      <td>-25.0,114.0</td>\n",
       "    </tr>\n",
       "    <tr>\n",
       "      <th>2</th>\n",
       "      <td>Iberotel Borg El Arab</td>\n",
       "      <td>31.0</td>\n",
       "      <td>29.0</td>\n",
       "      <td>NaN</td>\n",
       "      <td>NaN</td>\n",
       "      <td>NaN</td>\n",
       "      <td>NaN</td>\n",
       "      <td>NaN</td>\n",
       "      <td>NaN</td>\n",
       "      <td>NaN</td>\n",
       "      <td>NaN</td>\n",
       "      <td>NaN</td>\n",
       "      <td>NaN</td>\n",
       "    </tr>\n",
       "    <tr>\n",
       "      <th>3</th>\n",
       "      <td>HP Red Sea Hotel</td>\n",
       "      <td>25.0</td>\n",
       "      <td>37.0</td>\n",
       "      <td>Umluj</td>\n",
       "      <td>25.0</td>\n",
       "      <td>37.0</td>\n",
       "      <td>84.27</td>\n",
       "      <td>48.0</td>\n",
       "      <td>0.0</td>\n",
       "      <td>9.55</td>\n",
       "      <td>SA</td>\n",
       "      <td>1.601085e+09</td>\n",
       "      <td>25.0,37.0</td>\n",
       "    </tr>\n",
       "    <tr>\n",
       "      <th>4</th>\n",
       "      <td>Solar Tambaú</td>\n",
       "      <td>-7.0</td>\n",
       "      <td>-35.0</td>\n",
       "      <td>Pitimbu</td>\n",
       "      <td>-7.0</td>\n",
       "      <td>-35.0</td>\n",
       "      <td>71.60</td>\n",
       "      <td>88.0</td>\n",
       "      <td>0.0</td>\n",
       "      <td>4.70</td>\n",
       "      <td>BR</td>\n",
       "      <td>1.601085e+09</td>\n",
       "      <td>-7.0,-35.0</td>\n",
       "    </tr>\n",
       "  </tbody>\n",
       "</table>\n",
       "</div>"
      ],
      "text/plain": [
       "                          Hotel Name   Lat    Lng             City   lat  \\\n",
       "0  Sofitel Agadir Thalassa sea & spa  30.0  -10.0  Tiznit Province  30.0   \n",
       "1                    Carnarvon Motel -25.0  114.0        Carnarvon -25.0   \n",
       "2              Iberotel Borg El Arab  31.0   29.0              NaN   NaN   \n",
       "3                   HP Red Sea Hotel  25.0   37.0            Umluj  25.0   \n",
       "4                       Solar Tambaú  -7.0  -35.0          Pitimbu  -7.0   \n",
       "\n",
       "     lng  max_temp_f  Humidity  cloudiness  windspeed Country          date  \\\n",
       "0  -10.0       77.16      40.0         0.0       3.22      MA  1.601085e+09   \n",
       "1  114.0       71.60      40.0         0.0      13.87      AU  1.601085e+09   \n",
       "2    NaN         NaN       NaN         NaN        NaN     NaN           NaN   \n",
       "3   37.0       84.27      48.0         0.0       9.55      SA  1.601085e+09   \n",
       "4  -35.0       71.60      88.0         0.0       4.70      BR  1.601085e+09   \n",
       "\n",
       "       lat_lng  \n",
       "0   30.0,-10.0  \n",
       "1  -25.0,114.0  \n",
       "2          NaN  \n",
       "3    25.0,37.0  \n",
       "4   -7.0,-35.0  "
      ]
     },
     "execution_count": 28,
     "metadata": {},
     "output_type": "execute_result"
    }
   ],
   "source": [
    "#format columns for cleaner output in hover\n",
    "merged_df = merged_df.rename(columns={\"name\": \"City\", \"humidity\": \"Humidity\", \"country\": \"Country\"})\n",
    "merged_df.head()"
   ]
  },
  {
   "cell_type": "code",
   "execution_count": 31,
   "metadata": {},
   "outputs": [
    {
     "data": {
      "application/vnd.plotly.v1+json": {
       "config": {
        "plotlyServerURL": "https://plot.ly"
       },
       "data": [
        {
         "customdata": [
          [
           "Tiznit Province",
           "MA",
           30,
           -10,
           "Sofitel Agadir Thalassa sea & spa",
           40
          ],
          [
           "Carnarvon",
           "AU",
           -25,
           114,
           "Carnarvon Motel",
           40
          ],
          [
           null,
           null,
           31,
           29,
           "Iberotel Borg El Arab",
           null
          ],
          [
           "Umluj",
           "SA",
           25,
           37,
           "HP Red Sea Hotel",
           48
          ],
          [
           "Pitimbu",
           "BR",
           -7,
           -35,
           "Solar Tambaú",
           88
          ],
          [
           "Turbat",
           "PK",
           26,
           63,
           "Shapur Hotel",
           53
          ],
          [
           "Caravelas",
           "BR",
           -18,
           -39,
           "Hotel Marina Porto Abrolhos",
           86
          ],
          [
           "Marzuq",
           "YE",
           14,
           46,
           "فندق المدينه",
           45
          ],
          [
           "Feicheng",
           "CN",
           35,
           118,
           "Pullman Linyi Lushang",
           63
          ],
          [
           "Wajir",
           "KE",
           2,
           40,
           "Wajir Palace Hotel",
           73
          ],
          [
           "Yatou",
           "CN",
           37,
           122,
           "Bliss International Hotel",
           64
          ],
          [
           "Uberlândia",
           "BR",
           -19,
           -48,
           "Pousada Rainha do Cerrado",
           34
          ],
          [
           "Abnūb",
           "EG",
           27,
           31,
           "بيت القديسة مريم St Marie House",
           60
          ],
          [
           "Jardim",
           "BR",
           -21,
           -56,
           "Solar Cerrado",
           34
          ],
          [
           "Sur",
           "OM",
           23,
           60,
           "Zaki Hotel Apartment",
           54
          ],
          [
           "Pasni",
           "PK",
           25,
           63,
           "Juddi Hotel",
           80
          ],
          [
           "Coolum Beach",
           "AU",
           -27,
           153,
           "ibis Brisbane Airport",
           28
          ],
          [
           "Jhelum",
           "PK",
           33,
           74,
           "Grand Regency Hotel Mirpur",
           47
          ],
          [
           "Ajdabiya",
           "LY",
           31,
           20,
           "Almadina Hotel",
           29
          ],
          [
           "Mandera",
           "KE",
           4,
           42,
           "Granada hotel Mandera",
           61
          ],
          [
           "Gusau",
           "NG",
           12,
           7,
           "Crystal Merit Suite and Apartments",
           79
          ],
          [
           "Mosetse",
           "BW",
           -21,
           27,
           "Woodlands Stop Over and Lodge",
           29
          ],
          [
           "Caarapó",
           "BR",
           -23,
           -55,
           "Hotel Royal em Amambai",
           48
          ],
          [
           "Kumluca",
           "TR",
           36,
           30,
           "Doria Hotel & Yacht Club",
           56
          ],
          [
           "Sawākin",
           "SD",
           19,
           37,
           "Resort Hotel Arquette",
           68
          ],
          [
           "Nerang",
           "AU",
           -28,
           153,
           "Palazzo Versace Gold Coast",
           19
          ],
          [
           "Guerrero Negro",
           "MX",
           28,
           -114,
           "Hotel Los Caracoles",
           80
          ],
          [
           "Jiwani",
           "PK",
           25,
           62,
           "Zaver Pearl Continental Hotel",
           77
          ]
         ],
         "hovertemplate": "Lat=%{customdata[2]}<br>Lng=%{customdata[3]}<br>City=%{customdata[0]}<br>Country=%{customdata[1]}<br>Hotel Name=%{customdata[4]}<br>Humidity=%{customdata[5]}<br>max_temp_f=%{marker.color}<extra></extra>",
         "lat": [
          30,
          -25,
          31,
          25,
          -7,
          26,
          -18,
          14,
          35,
          2,
          37,
          -19,
          27,
          -21,
          23,
          25,
          -27,
          33,
          31,
          4,
          12,
          -21,
          -23,
          36,
          19,
          -28,
          28,
          25
         ],
         "legendgroup": "",
         "lon": [
          -10,
          114,
          29,
          37,
          -35,
          63,
          -39,
          46,
          118,
          40,
          122,
          -48,
          31,
          -56,
          60,
          63,
          153,
          74,
          20,
          42,
          7,
          27,
          -55,
          30,
          37,
          153,
          -114,
          62
         ],
         "marker": {
          "color": [
           77.16,
           71.6,
           null,
           84.27,
           71.6,
           75.25,
           71.46,
           75.29,
           71.46,
           71.85,
           71.83,
           75,
           75.2,
           76.96,
           82.33,
           78.64,
           75,
           76.91,
           80.02,
           75.38,
           73.4,
           71.06,
           74.16,
           75.51,
           84.61,
           75.99,
           70.93,
           80.6
          ],
          "coloraxis": "coloraxis"
         },
         "mode": "markers",
         "name": "",
         "showlegend": false,
         "subplot": "mapbox",
         "type": "scattermapbox"
        }
       ],
       "layout": {
        "autosize": true,
        "coloraxis": {
         "colorbar": {
          "title": {
           "text": "max_temp_f"
          }
         },
         "colorscale": [
          [
           0,
           "#0d0887"
          ],
          [
           0.1111111111111111,
           "#46039f"
          ],
          [
           0.2222222222222222,
           "#7201a8"
          ],
          [
           0.3333333333333333,
           "#9c179e"
          ],
          [
           0.4444444444444444,
           "#bd3786"
          ],
          [
           0.5555555555555556,
           "#d8576b"
          ],
          [
           0.6666666666666666,
           "#ed7953"
          ],
          [
           0.7777777777777778,
           "#fb9f3a"
          ],
          [
           0.8888888888888888,
           "#fdca26"
          ],
          [
           1,
           "#f0f921"
          ]
         ]
        },
        "legend": {
         "tracegroupgap": 0
        },
        "mapbox": {
         "accesstoken": "pk.eyJ1IjoiZmxvcGV6anIiLCJhIjoiY2tmOXcwMjdrMDFhaDJ6andhYncyeDh5NCJ9.zLf6t52S7smD-WG23URv2A",
         "bearing": 0,
         "center": {
          "lat": 7.951753524809845,
          "lon": -5.266660947296032
         },
         "domain": {
          "x": [
           0,
           1
          ],
          "y": [
           0,
           1
          ]
         },
         "pitch": 0,
         "zoom": 1.0474014789089687
        },
        "margin": {
         "t": 60
        },
        "template": {
         "data": {
          "bar": [
           {
            "error_x": {
             "color": "#2a3f5f"
            },
            "error_y": {
             "color": "#2a3f5f"
            },
            "marker": {
             "line": {
              "color": "#E5ECF6",
              "width": 0.5
             }
            },
            "type": "bar"
           }
          ],
          "barpolar": [
           {
            "marker": {
             "line": {
              "color": "#E5ECF6",
              "width": 0.5
             }
            },
            "type": "barpolar"
           }
          ],
          "carpet": [
           {
            "aaxis": {
             "endlinecolor": "#2a3f5f",
             "gridcolor": "white",
             "linecolor": "white",
             "minorgridcolor": "white",
             "startlinecolor": "#2a3f5f"
            },
            "baxis": {
             "endlinecolor": "#2a3f5f",
             "gridcolor": "white",
             "linecolor": "white",
             "minorgridcolor": "white",
             "startlinecolor": "#2a3f5f"
            },
            "type": "carpet"
           }
          ],
          "choropleth": [
           {
            "colorbar": {
             "outlinewidth": 0,
             "ticks": ""
            },
            "type": "choropleth"
           }
          ],
          "contour": [
           {
            "colorbar": {
             "outlinewidth": 0,
             "ticks": ""
            },
            "colorscale": [
             [
              0,
              "#0d0887"
             ],
             [
              0.1111111111111111,
              "#46039f"
             ],
             [
              0.2222222222222222,
              "#7201a8"
             ],
             [
              0.3333333333333333,
              "#9c179e"
             ],
             [
              0.4444444444444444,
              "#bd3786"
             ],
             [
              0.5555555555555556,
              "#d8576b"
             ],
             [
              0.6666666666666666,
              "#ed7953"
             ],
             [
              0.7777777777777778,
              "#fb9f3a"
             ],
             [
              0.8888888888888888,
              "#fdca26"
             ],
             [
              1,
              "#f0f921"
             ]
            ],
            "type": "contour"
           }
          ],
          "contourcarpet": [
           {
            "colorbar": {
             "outlinewidth": 0,
             "ticks": ""
            },
            "type": "contourcarpet"
           }
          ],
          "heatmap": [
           {
            "colorbar": {
             "outlinewidth": 0,
             "ticks": ""
            },
            "colorscale": [
             [
              0,
              "#0d0887"
             ],
             [
              0.1111111111111111,
              "#46039f"
             ],
             [
              0.2222222222222222,
              "#7201a8"
             ],
             [
              0.3333333333333333,
              "#9c179e"
             ],
             [
              0.4444444444444444,
              "#bd3786"
             ],
             [
              0.5555555555555556,
              "#d8576b"
             ],
             [
              0.6666666666666666,
              "#ed7953"
             ],
             [
              0.7777777777777778,
              "#fb9f3a"
             ],
             [
              0.8888888888888888,
              "#fdca26"
             ],
             [
              1,
              "#f0f921"
             ]
            ],
            "type": "heatmap"
           }
          ],
          "heatmapgl": [
           {
            "colorbar": {
             "outlinewidth": 0,
             "ticks": ""
            },
            "colorscale": [
             [
              0,
              "#0d0887"
             ],
             [
              0.1111111111111111,
              "#46039f"
             ],
             [
              0.2222222222222222,
              "#7201a8"
             ],
             [
              0.3333333333333333,
              "#9c179e"
             ],
             [
              0.4444444444444444,
              "#bd3786"
             ],
             [
              0.5555555555555556,
              "#d8576b"
             ],
             [
              0.6666666666666666,
              "#ed7953"
             ],
             [
              0.7777777777777778,
              "#fb9f3a"
             ],
             [
              0.8888888888888888,
              "#fdca26"
             ],
             [
              1,
              "#f0f921"
             ]
            ],
            "type": "heatmapgl"
           }
          ],
          "histogram": [
           {
            "marker": {
             "colorbar": {
              "outlinewidth": 0,
              "ticks": ""
             }
            },
            "type": "histogram"
           }
          ],
          "histogram2d": [
           {
            "colorbar": {
             "outlinewidth": 0,
             "ticks": ""
            },
            "colorscale": [
             [
              0,
              "#0d0887"
             ],
             [
              0.1111111111111111,
              "#46039f"
             ],
             [
              0.2222222222222222,
              "#7201a8"
             ],
             [
              0.3333333333333333,
              "#9c179e"
             ],
             [
              0.4444444444444444,
              "#bd3786"
             ],
             [
              0.5555555555555556,
              "#d8576b"
             ],
             [
              0.6666666666666666,
              "#ed7953"
             ],
             [
              0.7777777777777778,
              "#fb9f3a"
             ],
             [
              0.8888888888888888,
              "#fdca26"
             ],
             [
              1,
              "#f0f921"
             ]
            ],
            "type": "histogram2d"
           }
          ],
          "histogram2dcontour": [
           {
            "colorbar": {
             "outlinewidth": 0,
             "ticks": ""
            },
            "colorscale": [
             [
              0,
              "#0d0887"
             ],
             [
              0.1111111111111111,
              "#46039f"
             ],
             [
              0.2222222222222222,
              "#7201a8"
             ],
             [
              0.3333333333333333,
              "#9c179e"
             ],
             [
              0.4444444444444444,
              "#bd3786"
             ],
             [
              0.5555555555555556,
              "#d8576b"
             ],
             [
              0.6666666666666666,
              "#ed7953"
             ],
             [
              0.7777777777777778,
              "#fb9f3a"
             ],
             [
              0.8888888888888888,
              "#fdca26"
             ],
             [
              1,
              "#f0f921"
             ]
            ],
            "type": "histogram2dcontour"
           }
          ],
          "mesh3d": [
           {
            "colorbar": {
             "outlinewidth": 0,
             "ticks": ""
            },
            "type": "mesh3d"
           }
          ],
          "parcoords": [
           {
            "line": {
             "colorbar": {
              "outlinewidth": 0,
              "ticks": ""
             }
            },
            "type": "parcoords"
           }
          ],
          "pie": [
           {
            "automargin": true,
            "type": "pie"
           }
          ],
          "scatter": [
           {
            "marker": {
             "colorbar": {
              "outlinewidth": 0,
              "ticks": ""
             }
            },
            "type": "scatter"
           }
          ],
          "scatter3d": [
           {
            "line": {
             "colorbar": {
              "outlinewidth": 0,
              "ticks": ""
             }
            },
            "marker": {
             "colorbar": {
              "outlinewidth": 0,
              "ticks": ""
             }
            },
            "type": "scatter3d"
           }
          ],
          "scattercarpet": [
           {
            "marker": {
             "colorbar": {
              "outlinewidth": 0,
              "ticks": ""
             }
            },
            "type": "scattercarpet"
           }
          ],
          "scattergeo": [
           {
            "marker": {
             "colorbar": {
              "outlinewidth": 0,
              "ticks": ""
             }
            },
            "type": "scattergeo"
           }
          ],
          "scattergl": [
           {
            "marker": {
             "colorbar": {
              "outlinewidth": 0,
              "ticks": ""
             }
            },
            "type": "scattergl"
           }
          ],
          "scattermapbox": [
           {
            "marker": {
             "colorbar": {
              "outlinewidth": 0,
              "ticks": ""
             }
            },
            "type": "scattermapbox"
           }
          ],
          "scatterpolar": [
           {
            "marker": {
             "colorbar": {
              "outlinewidth": 0,
              "ticks": ""
             }
            },
            "type": "scatterpolar"
           }
          ],
          "scatterpolargl": [
           {
            "marker": {
             "colorbar": {
              "outlinewidth": 0,
              "ticks": ""
             }
            },
            "type": "scatterpolargl"
           }
          ],
          "scatterternary": [
           {
            "marker": {
             "colorbar": {
              "outlinewidth": 0,
              "ticks": ""
             }
            },
            "type": "scatterternary"
           }
          ],
          "surface": [
           {
            "colorbar": {
             "outlinewidth": 0,
             "ticks": ""
            },
            "colorscale": [
             [
              0,
              "#0d0887"
             ],
             [
              0.1111111111111111,
              "#46039f"
             ],
             [
              0.2222222222222222,
              "#7201a8"
             ],
             [
              0.3333333333333333,
              "#9c179e"
             ],
             [
              0.4444444444444444,
              "#bd3786"
             ],
             [
              0.5555555555555556,
              "#d8576b"
             ],
             [
              0.6666666666666666,
              "#ed7953"
             ],
             [
              0.7777777777777778,
              "#fb9f3a"
             ],
             [
              0.8888888888888888,
              "#fdca26"
             ],
             [
              1,
              "#f0f921"
             ]
            ],
            "type": "surface"
           }
          ],
          "table": [
           {
            "cells": {
             "fill": {
              "color": "#EBF0F8"
             },
             "line": {
              "color": "white"
             }
            },
            "header": {
             "fill": {
              "color": "#C8D4E3"
             },
             "line": {
              "color": "white"
             }
            },
            "type": "table"
           }
          ]
         },
         "layout": {
          "annotationdefaults": {
           "arrowcolor": "#2a3f5f",
           "arrowhead": 0,
           "arrowwidth": 1
          },
          "coloraxis": {
           "colorbar": {
            "outlinewidth": 0,
            "ticks": ""
           }
          },
          "colorscale": {
           "diverging": [
            [
             0,
             "#8e0152"
            ],
            [
             0.1,
             "#c51b7d"
            ],
            [
             0.2,
             "#de77ae"
            ],
            [
             0.3,
             "#f1b6da"
            ],
            [
             0.4,
             "#fde0ef"
            ],
            [
             0.5,
             "#f7f7f7"
            ],
            [
             0.6,
             "#e6f5d0"
            ],
            [
             0.7,
             "#b8e186"
            ],
            [
             0.8,
             "#7fbc41"
            ],
            [
             0.9,
             "#4d9221"
            ],
            [
             1,
             "#276419"
            ]
           ],
           "sequential": [
            [
             0,
             "#0d0887"
            ],
            [
             0.1111111111111111,
             "#46039f"
            ],
            [
             0.2222222222222222,
             "#7201a8"
            ],
            [
             0.3333333333333333,
             "#9c179e"
            ],
            [
             0.4444444444444444,
             "#bd3786"
            ],
            [
             0.5555555555555556,
             "#d8576b"
            ],
            [
             0.6666666666666666,
             "#ed7953"
            ],
            [
             0.7777777777777778,
             "#fb9f3a"
            ],
            [
             0.8888888888888888,
             "#fdca26"
            ],
            [
             1,
             "#f0f921"
            ]
           ],
           "sequentialminus": [
            [
             0,
             "#0d0887"
            ],
            [
             0.1111111111111111,
             "#46039f"
            ],
            [
             0.2222222222222222,
             "#7201a8"
            ],
            [
             0.3333333333333333,
             "#9c179e"
            ],
            [
             0.4444444444444444,
             "#bd3786"
            ],
            [
             0.5555555555555556,
             "#d8576b"
            ],
            [
             0.6666666666666666,
             "#ed7953"
            ],
            [
             0.7777777777777778,
             "#fb9f3a"
            ],
            [
             0.8888888888888888,
             "#fdca26"
            ],
            [
             1,
             "#f0f921"
            ]
           ]
          },
          "colorway": [
           "#636efa",
           "#EF553B",
           "#00cc96",
           "#ab63fa",
           "#FFA15A",
           "#19d3f3",
           "#FF6692",
           "#B6E880",
           "#FF97FF",
           "#FECB52"
          ],
          "font": {
           "color": "#2a3f5f"
          },
          "geo": {
           "bgcolor": "white",
           "lakecolor": "white",
           "landcolor": "#E5ECF6",
           "showlakes": true,
           "showland": true,
           "subunitcolor": "white"
          },
          "hoverlabel": {
           "align": "left"
          },
          "hovermode": "closest",
          "mapbox": {
           "style": "light"
          },
          "paper_bgcolor": "white",
          "plot_bgcolor": "#E5ECF6",
          "polar": {
           "angularaxis": {
            "gridcolor": "white",
            "linecolor": "white",
            "ticks": ""
           },
           "bgcolor": "#E5ECF6",
           "radialaxis": {
            "gridcolor": "white",
            "linecolor": "white",
            "ticks": ""
           }
          },
          "scene": {
           "xaxis": {
            "backgroundcolor": "#E5ECF6",
            "gridcolor": "white",
            "gridwidth": 2,
            "linecolor": "white",
            "showbackground": true,
            "ticks": "",
            "zerolinecolor": "white"
           },
           "yaxis": {
            "backgroundcolor": "#E5ECF6",
            "gridcolor": "white",
            "gridwidth": 2,
            "linecolor": "white",
            "showbackground": true,
            "ticks": "",
            "zerolinecolor": "white"
           },
           "zaxis": {
            "backgroundcolor": "#E5ECF6",
            "gridcolor": "white",
            "gridwidth": 2,
            "linecolor": "white",
            "showbackground": true,
            "ticks": "",
            "zerolinecolor": "white"
           }
          },
          "shapedefaults": {
           "line": {
            "color": "#2a3f5f"
           }
          },
          "ternary": {
           "aaxis": {
            "gridcolor": "white",
            "linecolor": "white",
            "ticks": ""
           },
           "baxis": {
            "gridcolor": "white",
            "linecolor": "white",
            "ticks": ""
           },
           "bgcolor": "#E5ECF6",
           "caxis": {
            "gridcolor": "white",
            "linecolor": "white",
            "ticks": ""
           }
          },
          "title": {
           "x": 0.05
          },
          "xaxis": {
           "automargin": true,
           "gridcolor": "white",
           "linecolor": "white",
           "ticks": "",
           "title": {
            "standoff": 15
           },
           "zerolinecolor": "white",
           "zerolinewidth": 2
          },
          "yaxis": {
           "automargin": true,
           "gridcolor": "white",
           "linecolor": "white",
           "ticks": "",
           "title": {
            "standoff": 15
           },
           "zerolinecolor": "white",
           "zerolinewidth": 2
          }
         }
        }
       }
      },
      "image/png": "[encoded data removed]",
      "text/html": [
       "<div>                            <div id=\"49ebeabf-c236-492f-b606-f945b58d9761\" class=\"plotly-graph-div\" style=\"height:525px; width:100%;\"></div>            <script type=\"text/javascript\">                require([\"plotly\"], function(Plotly) {                    window.PLOTLYENV=window.PLOTLYENV || {};                                    if (document.getElementById(\"49ebeabf-c236-492f-b606-f945b58d9761\")) {                    Plotly.newPlot(                        \"49ebeabf-c236-492f-b606-f945b58d9761\",                        [{\"customdata\": [[\"Tiznit Province\", \"MA\", 30.0, -10.0, \"Sofitel Agadir Thalassa sea & spa\", 40.0], [\"Carnarvon\", \"AU\", -25.0, 114.0, \"Carnarvon Motel\", 40.0], [null, null, 31.0, 29.0, \"Iberotel Borg El Arab\", null], [\"Umluj\", \"SA\", 25.0, 37.0, \"HP Red Sea Hotel\", 48.0], [\"Pitimbu\", \"BR\", -7.0, -35.0, \"Solar Tamba\\u00fa\", 88.0], [\"Turbat\", \"PK\", 26.0, 63.0, \"Shapur Hotel\", 53.0], [\"Caravelas\", \"BR\", -18.0, -39.0, \"Hotel Marina Porto Abrolhos\", 86.0], [\"Marzuq\", \"YE\", 14.0, 46.0, \"\\u0641\\u0646\\u062f\\u0642 \\u0627\\u0644\\u0645\\u062f\\u064a\\u0646\\u0647\", 45.0], [\"Feicheng\", \"CN\", 35.0, 118.0, \"Pullman Linyi Lushang\", 63.0], [\"Wajir\", \"KE\", 2.0, 40.0, \"Wajir Palace Hotel\", 73.0], [\"Yatou\", \"CN\", 37.0, 122.0, \"Bliss International Hotel\", 64.0], [\"Uberl\\u00e2ndia\", \"BR\", -19.0, -48.0, \"Pousada Rainha do Cerrado\", 34.0], [\"Abn\\u016bb\", \"EG\", 27.0, 31.0, \"\\u0628\\u064a\\u062a \\u0627\\u0644\\u0642\\u062f\\u064a\\u0633\\u0629 \\u0645\\u0631\\u064a\\u0645 St Marie House\", 60.0], [\"Jardim\", \"BR\", -21.0, -56.0, \"Solar Cerrado\", 34.0], [\"Sur\", \"OM\", 23.0, 60.0, \"Zaki Hotel Apartment\", 54.0], [\"Pasni\", \"PK\", 25.0, 63.0, \"Juddi Hotel\", 80.0], [\"Coolum Beach\", \"AU\", -27.0, 153.0, \"ibis Brisbane Airport\", 28.0], [\"Jhelum\", \"PK\", 33.0, 74.0, \"Grand Regency Hotel Mirpur\", 47.0], [\"Ajdabiya\", \"LY\", 31.0, 20.0, \"Almadina Hotel\", 29.0], [\"Mandera\", \"KE\", 4.0, 42.0, \"Granada hotel Mandera\", 61.0], [\"Gusau\", \"NG\", 12.0, 7.0, \"Crystal Merit Suite and Apartments\", 79.0], [\"Mosetse\", \"BW\", -21.0, 27.0, \"Woodlands Stop Over and Lodge\", 29.0], [\"Caarap\\u00f3\", \"BR\", -23.0, -55.0, \"Hotel Royal em Amambai\", 48.0], [\"Kumluca\", \"TR\", 36.0, 30.0, \"Doria Hotel & Yacht Club\", 56.0], [\"Saw\\u0101kin\", \"SD\", 19.0, 37.0, \"Resort Hotel Arquette\", 68.0], [\"Nerang\", \"AU\", -28.0, 153.0, \"Palazzo Versace Gold Coast\", 19.0], [\"Guerrero Negro\", \"MX\", 28.0, -114.0, \"Hotel Los Caracoles\", 80.0], [\"Jiwani\", \"PK\", 25.0, 62.0, \"Zaver Pearl Continental Hotel\", 77.0]], \"hovertemplate\": \"Lat=%{customdata[2]}<br>Lng=%{customdata[3]}<br>City=%{customdata[0]}<br>Country=%{customdata[1]}<br>Hotel Name=%{customdata[4]}<br>Humidity=%{customdata[5]}<br>max_temp_f=%{marker.color}<extra></extra>\", \"lat\": [30.0, -25.0, 31.0, 25.0, -7.0, 26.0, -18.0, 14.0, 35.0, 2.0, 37.0, -19.0, 27.0, -21.0, 23.0, 25.0, -27.0, 33.0, 31.0, 4.0, 12.0, -21.0, -23.0, 36.0, 19.0, -28.0, 28.0, 25.0], \"legendgroup\": \"\", \"lon\": [-10.0, 114.0, 29.0, 37.0, -35.0, 63.0, -39.0, 46.0, 118.0, 40.0, 122.0, -48.0, 31.0, -56.0, 60.0, 63.0, 153.0, 74.0, 20.0, 42.0, 7.0, 27.0, -55.0, 30.0, 37.0, 153.0, -114.0, 62.0], \"marker\": {\"color\": [77.16, 71.6, null, 84.27, 71.6, 75.25, 71.46, 75.29, 71.46, 71.85, 71.83, 75.0, 75.2, 76.96, 82.33, 78.64, 75.0, 76.91, 80.02, 75.38, 73.4, 71.06, 74.16, 75.51, 84.61, 75.99, 70.93, 80.6], \"coloraxis\": \"coloraxis\"}, \"mode\": \"markers\", \"name\": \"\", \"showlegend\": false, \"subplot\": \"mapbox\", \"type\": \"scattermapbox\"}],                        {\"coloraxis\": {\"colorbar\": {\"title\": {\"text\": \"max_temp_f\"}}, \"colorscale\": [[0.0, \"#0d0887\"], [0.1111111111111111, \"#46039f\"], [0.2222222222222222, \"#7201a8\"], [0.3333333333333333, \"#9c179e\"], [0.4444444444444444, \"#bd3786\"], [0.5555555555555556, \"#d8576b\"], [0.6666666666666666, \"#ed7953\"], [0.7777777777777778, \"#fb9f3a\"], [0.8888888888888888, \"#fdca26\"], [1.0, \"#f0f921\"]]}, \"legend\": {\"tracegroupgap\": 0}, \"mapbox\": {\"accesstoken\": \"pk.eyJ1IjoiZmxvcGV6anIiLCJhIjoiY2tmOXcwMjdrMDFhaDJ6andhYncyeDh5NCJ9.zLf6t52S7smD-WG23URv2A\", \"center\": {\"lat\": 9.785714285714286, \"lon\": 34.67857142857143}, \"domain\": {\"x\": [0.0, 1.0], \"y\": [0.0, 1.0]}, \"zoom\": 8}, \"margin\": {\"t\": 60}, \"template\": {\"data\": {\"bar\": [{\"error_x\": {\"color\": \"#2a3f5f\"}, \"error_y\": {\"color\": \"#2a3f5f\"}, \"marker\": {\"line\": {\"color\": \"#E5ECF6\", \"width\": 0.5}}, \"type\": \"bar\"}], \"barpolar\": [{\"marker\": {\"line\": {\"color\": \"#E5ECF6\", \"width\": 0.5}}, \"type\": \"barpolar\"}], \"carpet\": [{\"aaxis\": {\"endlinecolor\": \"#2a3f5f\", \"gridcolor\": \"white\", \"linecolor\": \"white\", \"minorgridcolor\": \"white\", \"startlinecolor\": \"#2a3f5f\"}, \"baxis\": {\"endlinecolor\": \"#2a3f5f\", \"gridcolor\": \"white\", \"linecolor\": \"white\", \"minorgridcolor\": \"white\", \"startlinecolor\": \"#2a3f5f\"}, \"type\": \"carpet\"}], \"choropleth\": [{\"colorbar\": {\"outlinewidth\": 0, \"ticks\": \"\"}, \"type\": \"choropleth\"}], \"contour\": [{\"colorbar\": {\"outlinewidth\": 0, \"ticks\": \"\"}, \"colorscale\": [[0.0, \"#0d0887\"], [0.1111111111111111, \"#46039f\"], [0.2222222222222222, \"#7201a8\"], [0.3333333333333333, \"#9c179e\"], [0.4444444444444444, \"#bd3786\"], [0.5555555555555556, \"#d8576b\"], [0.6666666666666666, \"#ed7953\"], [0.7777777777777778, \"#fb9f3a\"], [0.8888888888888888, \"#fdca26\"], [1.0, \"#f0f921\"]], \"type\": \"contour\"}], \"contourcarpet\": [{\"colorbar\": {\"outlinewidth\": 0, \"ticks\": \"\"}, \"type\": \"contourcarpet\"}], \"heatmap\": [{\"colorbar\": {\"outlinewidth\": 0, \"ticks\": \"\"}, \"colorscale\": [[0.0, \"#0d0887\"], [0.1111111111111111, \"#46039f\"], [0.2222222222222222, \"#7201a8\"], [0.3333333333333333, \"#9c179e\"], [0.4444444444444444, \"#bd3786\"], [0.5555555555555556, \"#d8576b\"], [0.6666666666666666, \"#ed7953\"], [0.7777777777777778, \"#fb9f3a\"], [0.8888888888888888, \"#fdca26\"], [1.0, \"#f0f921\"]], \"type\": \"heatmap\"}], \"heatmapgl\": [{\"colorbar\": {\"outlinewidth\": 0, \"ticks\": \"\"}, \"colorscale\": [[0.0, \"#0d0887\"], [0.1111111111111111, \"#46039f\"], [0.2222222222222222, \"#7201a8\"], [0.3333333333333333, \"#9c179e\"], [0.4444444444444444, \"#bd3786\"], [0.5555555555555556, \"#d8576b\"], [0.6666666666666666, \"#ed7953\"], [0.7777777777777778, \"#fb9f3a\"], [0.8888888888888888, \"#fdca26\"], [1.0, \"#f0f921\"]], \"type\": \"heatmapgl\"}], \"histogram\": [{\"marker\": {\"colorbar\": {\"outlinewidth\": 0, \"ticks\": \"\"}}, \"type\": \"histogram\"}], \"histogram2d\": [{\"colorbar\": {\"outlinewidth\": 0, \"ticks\": \"\"}, \"colorscale\": [[0.0, \"#0d0887\"], [0.1111111111111111, \"#46039f\"], [0.2222222222222222, \"#7201a8\"], [0.3333333333333333, \"#9c179e\"], [0.4444444444444444, \"#bd3786\"], [0.5555555555555556, \"#d8576b\"], [0.6666666666666666, \"#ed7953\"], [0.7777777777777778, \"#fb9f3a\"], [0.8888888888888888, \"#fdca26\"], [1.0, \"#f0f921\"]], \"type\": \"histogram2d\"}], \"histogram2dcontour\": [{\"colorbar\": {\"outlinewidth\": 0, \"ticks\": \"\"}, \"colorscale\": [[0.0, \"#0d0887\"], [0.1111111111111111, \"#46039f\"], [0.2222222222222222, \"#7201a8\"], [0.3333333333333333, \"#9c179e\"], [0.4444444444444444, \"#bd3786\"], [0.5555555555555556, \"#d8576b\"], [0.6666666666666666, \"#ed7953\"], [0.7777777777777778, \"#fb9f3a\"], [0.8888888888888888, \"#fdca26\"], [1.0, \"#f0f921\"]], \"type\": \"histogram2dcontour\"}], \"mesh3d\": [{\"colorbar\": {\"outlinewidth\": 0, \"ticks\": \"\"}, \"type\": \"mesh3d\"}], \"parcoords\": [{\"line\": {\"colorbar\": {\"outlinewidth\": 0, \"ticks\": \"\"}}, \"type\": \"parcoords\"}], \"pie\": [{\"automargin\": true, \"type\": \"pie\"}], \"scatter\": [{\"marker\": {\"colorbar\": {\"outlinewidth\": 0, \"ticks\": \"\"}}, \"type\": \"scatter\"}], \"scatter3d\": [{\"line\": {\"colorbar\": {\"outlinewidth\": 0, \"ticks\": \"\"}}, \"marker\": {\"colorbar\": {\"outlinewidth\": 0, \"ticks\": \"\"}}, \"type\": \"scatter3d\"}], \"scattercarpet\": [{\"marker\": {\"colorbar\": {\"outlinewidth\": 0, \"ticks\": \"\"}}, \"type\": \"scattercarpet\"}], \"scattergeo\": [{\"marker\": {\"colorbar\": {\"outlinewidth\": 0, \"ticks\": \"\"}}, \"type\": \"scattergeo\"}], \"scattergl\": [{\"marker\": {\"colorbar\": {\"outlinewidth\": 0, \"ticks\": \"\"}}, \"type\": \"scattergl\"}], \"scattermapbox\": [{\"marker\": {\"colorbar\": {\"outlinewidth\": 0, \"ticks\": \"\"}}, \"type\": \"scattermapbox\"}], \"scatterpolar\": [{\"marker\": {\"colorbar\": {\"outlinewidth\": 0, \"ticks\": \"\"}}, \"type\": \"scatterpolar\"}], \"scatterpolargl\": [{\"marker\": {\"colorbar\": {\"outlinewidth\": 0, \"ticks\": \"\"}}, \"type\": \"scatterpolargl\"}], \"scatterternary\": [{\"marker\": {\"colorbar\": {\"outlinewidth\": 0, \"ticks\": \"\"}}, \"type\": \"scatterternary\"}], \"surface\": [{\"colorbar\": {\"outlinewidth\": 0, \"ticks\": \"\"}, \"colorscale\": [[0.0, \"#0d0887\"], [0.1111111111111111, \"#46039f\"], [0.2222222222222222, \"#7201a8\"], [0.3333333333333333, \"#9c179e\"], [0.4444444444444444, \"#bd3786\"], [0.5555555555555556, \"#d8576b\"], [0.6666666666666666, \"#ed7953\"], [0.7777777777777778, \"#fb9f3a\"], [0.8888888888888888, \"#fdca26\"], [1.0, \"#f0f921\"]], \"type\": \"surface\"}], \"table\": [{\"cells\": {\"fill\": {\"color\": \"#EBF0F8\"}, \"line\": {\"color\": \"white\"}}, \"header\": {\"fill\": {\"color\": \"#C8D4E3\"}, \"line\": {\"color\": \"white\"}}, \"type\": \"table\"}]}, \"layout\": {\"annotationdefaults\": {\"arrowcolor\": \"#2a3f5f\", \"arrowhead\": 0, \"arrowwidth\": 1}, \"coloraxis\": {\"colorbar\": {\"outlinewidth\": 0, \"ticks\": \"\"}}, \"colorscale\": {\"diverging\": [[0, \"#8e0152\"], [0.1, \"#c51b7d\"], [0.2, \"#de77ae\"], [0.3, \"#f1b6da\"], [0.4, \"#fde0ef\"], [0.5, \"#f7f7f7\"], [0.6, \"#e6f5d0\"], [0.7, \"#b8e186\"], [0.8, \"#7fbc41\"], [0.9, \"#4d9221\"], [1, \"#276419\"]], \"sequential\": [[0.0, \"#0d0887\"], [0.1111111111111111, \"#46039f\"], [0.2222222222222222, \"#7201a8\"], [0.3333333333333333, \"#9c179e\"], [0.4444444444444444, \"#bd3786\"], [0.5555555555555556, \"#d8576b\"], [0.6666666666666666, \"#ed7953\"], [0.7777777777777778, \"#fb9f3a\"], [0.8888888888888888, \"#fdca26\"], [1.0, \"#f0f921\"]], \"sequentialminus\": [[0.0, \"#0d0887\"], [0.1111111111111111, \"#46039f\"], [0.2222222222222222, \"#7201a8\"], [0.3333333333333333, \"#9c179e\"], [0.4444444444444444, \"#bd3786\"], [0.5555555555555556, \"#d8576b\"], [0.6666666666666666, \"#ed7953\"], [0.7777777777777778, \"#fb9f3a\"], [0.8888888888888888, \"#fdca26\"], [1.0, \"#f0f921\"]]}, \"colorway\": [\"#636efa\", \"#EF553B\", \"#00cc96\", \"#ab63fa\", \"#FFA15A\", \"#19d3f3\", \"#FF6692\", \"#B6E880\", \"#FF97FF\", \"#FECB52\"], \"font\": {\"color\": \"#2a3f5f\"}, \"geo\": {\"bgcolor\": \"white\", \"lakecolor\": \"white\", \"landcolor\": \"#E5ECF6\", \"showlakes\": true, \"showland\": true, \"subunitcolor\": \"white\"}, \"hoverlabel\": {\"align\": \"left\"}, \"hovermode\": \"closest\", \"mapbox\": {\"style\": \"light\"}, \"paper_bgcolor\": \"white\", \"plot_bgcolor\": \"#E5ECF6\", \"polar\": {\"angularaxis\": {\"gridcolor\": \"white\", \"linecolor\": \"white\", \"ticks\": \"\"}, \"bgcolor\": \"#E5ECF6\", \"radialaxis\": {\"gridcolor\": \"white\", \"linecolor\": \"white\", \"ticks\": \"\"}}, \"scene\": {\"xaxis\": {\"backgroundcolor\": \"#E5ECF6\", \"gridcolor\": \"white\", \"gridwidth\": 2, \"linecolor\": \"white\", \"showbackground\": true, \"ticks\": \"\", \"zerolinecolor\": \"white\"}, \"yaxis\": {\"backgroundcolor\": \"#E5ECF6\", \"gridcolor\": \"white\", \"gridwidth\": 2, \"linecolor\": \"white\", \"showbackground\": true, \"ticks\": \"\", \"zerolinecolor\": \"white\"}, \"zaxis\": {\"backgroundcolor\": \"#E5ECF6\", \"gridcolor\": \"white\", \"gridwidth\": 2, \"linecolor\": \"white\", \"showbackground\": true, \"ticks\": \"\", \"zerolinecolor\": \"white\"}}, \"shapedefaults\": {\"line\": {\"color\": \"#2a3f5f\"}}, \"ternary\": {\"aaxis\": {\"gridcolor\": \"white\", \"linecolor\": \"white\", \"ticks\": \"\"}, \"baxis\": {\"gridcolor\": \"white\", \"linecolor\": \"white\", \"ticks\": \"\"}, \"bgcolor\": \"#E5ECF6\", \"caxis\": {\"gridcolor\": \"white\", \"linecolor\": \"white\", \"ticks\": \"\"}}, \"title\": {\"x\": 0.05}, \"xaxis\": {\"automargin\": true, \"gridcolor\": \"white\", \"linecolor\": \"white\", \"ticks\": \"\", \"title\": {\"standoff\": 15}, \"zerolinecolor\": \"white\", \"zerolinewidth\": 2}, \"yaxis\": {\"automargin\": true, \"gridcolor\": \"white\", \"linecolor\": \"white\", \"ticks\": \"\", \"title\": {\"standoff\": 15}, \"zerolinecolor\": \"white\", \"zerolinewidth\": 2}}}},                        {\"responsive\": true}                    ).then(function(){\n",
       "                            \n",
       "var gd = document.getElementById('49ebeabf-c236-492f-b606-f945b58d9761');\n",
       "var x = new MutationObserver(function (mutations, observer) {{\n",
       "        var display = window.getComputedStyle(gd).display;\n",
       "        if (!display || display === 'none') {{\n",
       "            console.log([gd, 'removed!']);\n",
       "            Plotly.purge(gd);\n",
       "            observer.disconnect();\n",
       "        }}\n",
       "}});\n",
       "\n",
       "// Listen for the removal of the full notebook cells\n",
       "var notebookContainer = gd.closest('#notebook-container');\n",
       "if (notebookContainer) {{\n",
       "    x.observe(notebookContainer, {childList: true});\n",
       "}}\n",
       "\n",
       "// Listen for the clearing of the current output cell\n",
       "var outputEl = gd.closest('.output');\n",
       "if (outputEl) {{\n",
       "    x.observe(outputEl, {childList: true});\n",
       "}}\n",
       "\n",
       "                        })                };                });            </script>        </div>"
      ]
     },
     "metadata": {},
     "output_type": "display_data"
    }
   ],
   "source": [
    "fig = px.scatter_mapbox(merged_df, lat=\"Lat\", lon=\"Lng\", color=\"max_temp_f\", hover_data=[\n",
    "    \"City\",\n",
    "    \"Country\",\n",
    "    \"Lat\",\n",
    "    \"Lng\",\n",
    "    \"Hotel Name\",\n",
    "    \"Humidity\"\n",
    "])\n",
    "\n",
    "fig.show()\n"
   ]
  }
 ],
 "metadata": {
  "environment": {
   "name": "common-cpu.m54",
   "type": "gcloud",
   "uri": "gcr.io/deeplearning-platform-release/base-cpu:m54"
  },
  "kernelspec": {
   "display_name": "Python 3",
   "language": "python",
   "name": "python3"
  },
  "language_info": {
   "codemirror_mode": {
    "name": "ipython",
    "version": 3
   },
   "file_extension": ".py",
   "mimetype": "text/x-python",
   "name": "python",
   "nbconvert_exporter": "python",
   "pygments_lexer": "ipython3",
   "version": "3.7.8"
  },
  "latex_envs": {
   "LaTeX_envs_menu_present": true,
   "autoclose": false,
   "autocomplete": true,
   "bibliofile": "biblio.bib",
   "cite_by": "apalike",
   "current_citInitial": 1,
   "eqLabelWithNumbers": true,
   "eqNumInitial": 1,
   "hotkeys": {
    "equation": "Ctrl-E",
    "itemize": "Ctrl-I"
   },
   "labels_anchors": false,
   "latex_user_defs": false,
   "report_style_numbering": false,
   "user_envs_cfg": false
  }
 },
 "nbformat": 4,
 "nbformat_minor": 4
}
