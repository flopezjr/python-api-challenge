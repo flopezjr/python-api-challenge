{
 "cells": [
  {
   "cell_type": "markdown",
   "metadata": {},
   "source": [
    "# WeatherPy\n",
    "----\n",
    "\n",
    "#### Note\n",
    "* Instructions have been included for each segment. You do not have to follow them exactly, but they are included to help you think through the steps."
   ]
  },
  {
   "cell_type": "code",
   "execution_count": 1,
   "metadata": {
    "scrolled": true
   },
   "outputs": [],
   "source": [
    "# Import dependecies\n",
    "import requests\n",
    "import pandas as pd\n",
    "import numpy as np\n",
    "from citipy import citipy\n",
    "from api_keys import weather_api_key\n",
    "import matplotlib.pyplot as plt\n",
    "from sklearn.linear_model import LinearRegression\n",
    "\n",
    "%reload_ext lab_black\n",
    "\n",
    "# Output File (CSV)"
   ]
  },
  {
   "cell_type": "markdown",
   "metadata": {},
   "source": [
    "## Generate Cities List"
   ]
  },
  {
   "cell_type": "code",
   "execution_count": 2,
   "metadata": {},
   "outputs": [],
   "source": [
    "# Create list of 500+ cities\n",
    "lat_list = np.random.uniform(-90, 90, 1500)\n",
    "lng_list = np.random.uniform(-180, 180, 1500)\n",
    "\n",
    "# combine list to create coodinates\n",
    "coords_list = list(zip(lat_list, lng_list))"
   ]
  },
  {
   "cell_type": "code",
   "execution_count": 3,
   "metadata": {},
   "outputs": [
    {
     "data": {
      "text/plain": [
       "603"
      ]
     },
     "execution_count": 3,
     "metadata": {},
     "output_type": "execute_result"
    }
   ],
   "source": [
    "cities = []\n",
    "countries = []\n",
    "\n",
    "for coords in coords_list:\n",
    "\n",
    "    city = citipy.nearest_city(coords[0], coords[1]).city_name\n",
    "    country = citipy.nearest_city(coords[0], coords[1]).country_code\n",
    "\n",
    "    if city not in cities:\n",
    "        cities.append(city)\n",
    "\n",
    "len(cities)"
   ]
  },
  {
   "cell_type": "markdown",
   "metadata": {},
   "source": [
    "### Perform API Calls\n",
    "* Perform a weather check on each city using a series of successive API calls.\n",
    "* Include a print log of each city as it'sbeing processed (with the city number and city name).\n"
   ]
  },
  {
   "cell_type": "code",
   "execution_count": null,
   "metadata": {
    "scrolled": true
   },
   "outputs": [],
   "source": [
    "def extract_data(data):\n",
    "    return {\n",
    "        \"name\": data[\"name\"],\n",
    "        \"lat\": data[\"coord\"][\"lat\"],\n",
    "        \"lng\": data[\"coord\"][\"lon\"],\n",
    "        \"max_temp_f\": data[\"main\"][\"temp_max\"],\n",
    "        \"humidity\": data[\"main\"][\"humidity\"],\n",
    "        \"cloudiness\": data[\"clouds\"][\"all\"],\n",
    "        \"windspeed\": data[\"wind\"][\"speed\"],\n",
    "        \"country\": data[\"sys\"][\"country\"],\n",
    "        \"date\": data[\"dt\"],\n",
    "    }"
   ]
  },
  {
   "cell_type": "code",
   "execution_count": null,
   "metadata": {},
   "outputs": [],
   "source": [
    "# create empty list for appending extracted data\n",
    "city_results = []\n",
    "\n",
    "# set beginning print statments for output\n",
    "print(\"Beginning Data Retrieval\")\n",
    "print(\"-\" * 25)\n",
    "\n",
    "# set up record counter for output\n",
    "set_count = 1\n",
    "record_counter = 1\n",
    "\n",
    "# create for loop to loop over random city list\n",
    "for i, city in enumerate(cities):\n",
    "\n",
    "    # set up record counter for print log\n",
    "    if i > 500:\n",
    "        \n",
    "        record_counter += 1\n",
    "\n",
    "    # set up request and include try/except\n",
    "    try:\n",
    "        print(f\"Processing Record {record_counter} | {city}\")\n",
    "        \n",
    "        record_counter += 1\n",
    "\n",
    "        data = requests.get(\n",
    "            url=\"http://api.openweathermap.org/data/2.5/weather\",\n",
    "            params={\"q\": city, \"appid\": weather_api_key, \"units\": \"imperial\"},\n",
    "        ).json()\n",
    "\n",
    "        cities_result = extract_data(data)\n",
    "\n",
    "        city_results.append(cities_result)\n",
    "\n",
    "    except KeyError:\n",
    "        print(\"City Not Found. Skipping ...\")\n",
    "        pass\n",
    "\n",
    "print(\"-\" * 25)\n",
    "print(\"Data Retrieval Complete\")\n",
    "print(\"-\" * 25)"
   ]
  },
  {
   "cell_type": "markdown",
   "metadata": {},
   "source": [
    "### Convert Raw Data to DataFrame\n",
    "* Export the city data into a .csv.\n",
    "* Display the DataFrame"
   ]
  },
  {
   "cell_type": "code",
   "execution_count": 11,
   "metadata": {},
   "outputs": [
    {
     "data": {
      "text/html": [
       "<div>\n",
       "<style scoped>\n",
       "    .dataframe tbody tr th:only-of-type {\n",
       "        vertical-align: middle;\n",
       "    }\n",
       "\n",
       "    .dataframe tbody tr th {\n",
       "        vertical-align: top;\n",
       "    }\n",
       "\n",
       "    .dataframe thead th {\n",
       "        text-align: right;\n",
       "    }\n",
       "</style>\n",
       "<table border=\"1\" class=\"dataframe\">\n",
       "  <thead>\n",
       "    <tr style=\"text-align: right;\">\n",
       "      <th></th>\n",
       "      <th>name</th>\n",
       "      <th>lat</th>\n",
       "      <th>lng</th>\n",
       "      <th>max_temp_f</th>\n",
       "      <th>humidity</th>\n",
       "      <th>cloudiness</th>\n",
       "      <th>windspeed</th>\n",
       "      <th>country</th>\n",
       "      <th>date</th>\n",
       "    </tr>\n",
       "  </thead>\n",
       "  <tbody>\n",
       "    <tr>\n",
       "      <th>0</th>\n",
       "      <td>Hambantota</td>\n",
       "      <td>6.12</td>\n",
       "      <td>81.12</td>\n",
       "      <td>80.46</td>\n",
       "      <td>80</td>\n",
       "      <td>100</td>\n",
       "      <td>14.27</td>\n",
       "      <td>LK</td>\n",
       "      <td>1600983904</td>\n",
       "    </tr>\n",
       "    <tr>\n",
       "      <th>1</th>\n",
       "      <td>Inírida</td>\n",
       "      <td>3.87</td>\n",
       "      <td>-67.92</td>\n",
       "      <td>81.39</td>\n",
       "      <td>79</td>\n",
       "      <td>95</td>\n",
       "      <td>1.68</td>\n",
       "      <td>CO</td>\n",
       "      <td>1600983368</td>\n",
       "    </tr>\n",
       "    <tr>\n",
       "      <th>2</th>\n",
       "      <td>Nanortalik</td>\n",
       "      <td>60.14</td>\n",
       "      <td>-45.24</td>\n",
       "      <td>38.77</td>\n",
       "      <td>72</td>\n",
       "      <td>100</td>\n",
       "      <td>27.47</td>\n",
       "      <td>GL</td>\n",
       "      <td>1600983696</td>\n",
       "    </tr>\n",
       "    <tr>\n",
       "      <th>3</th>\n",
       "      <td>Saldanha</td>\n",
       "      <td>-33.01</td>\n",
       "      <td>17.94</td>\n",
       "      <td>57.20</td>\n",
       "      <td>76</td>\n",
       "      <td>27</td>\n",
       "      <td>10.29</td>\n",
       "      <td>ZA</td>\n",
       "      <td>1600983905</td>\n",
       "    </tr>\n",
       "    <tr>\n",
       "      <th>4</th>\n",
       "      <td>Ushuaia</td>\n",
       "      <td>-54.80</td>\n",
       "      <td>-68.30</td>\n",
       "      <td>50.00</td>\n",
       "      <td>46</td>\n",
       "      <td>40</td>\n",
       "      <td>21.92</td>\n",
       "      <td>AR</td>\n",
       "      <td>1600983662</td>\n",
       "    </tr>\n",
       "    <tr>\n",
       "      <th>5</th>\n",
       "      <td>Cape Town</td>\n",
       "      <td>-33.93</td>\n",
       "      <td>18.42</td>\n",
       "      <td>60.01</td>\n",
       "      <td>82</td>\n",
       "      <td>75</td>\n",
       "      <td>14.99</td>\n",
       "      <td>ZA</td>\n",
       "      <td>1600983519</td>\n",
       "    </tr>\n",
       "    <tr>\n",
       "      <th>6</th>\n",
       "      <td>Dingle</td>\n",
       "      <td>11.00</td>\n",
       "      <td>122.67</td>\n",
       "      <td>75.06</td>\n",
       "      <td>89</td>\n",
       "      <td>100</td>\n",
       "      <td>3.33</td>\n",
       "      <td>PH</td>\n",
       "      <td>1600983550</td>\n",
       "    </tr>\n",
       "    <tr>\n",
       "      <th>7</th>\n",
       "      <td>Butaritari</td>\n",
       "      <td>3.07</td>\n",
       "      <td>172.79</td>\n",
       "      <td>81.90</td>\n",
       "      <td>74</td>\n",
       "      <td>95</td>\n",
       "      <td>16.78</td>\n",
       "      <td>KI</td>\n",
       "      <td>1600983905</td>\n",
       "    </tr>\n",
       "    <tr>\n",
       "      <th>8</th>\n",
       "      <td>Lüderitz</td>\n",
       "      <td>-26.65</td>\n",
       "      <td>15.16</td>\n",
       "      <td>58.15</td>\n",
       "      <td>83</td>\n",
       "      <td>5</td>\n",
       "      <td>3.65</td>\n",
       "      <td>NA</td>\n",
       "      <td>1600983142</td>\n",
       "    </tr>\n",
       "    <tr>\n",
       "      <th>9</th>\n",
       "      <td>Albany</td>\n",
       "      <td>42.60</td>\n",
       "      <td>-73.97</td>\n",
       "      <td>73.00</td>\n",
       "      <td>59</td>\n",
       "      <td>100</td>\n",
       "      <td>2.21</td>\n",
       "      <td>US</td>\n",
       "      <td>1600983881</td>\n",
       "    </tr>\n",
       "    <tr>\n",
       "      <th>10</th>\n",
       "      <td>Port Elizabeth</td>\n",
       "      <td>-33.92</td>\n",
       "      <td>25.57</td>\n",
       "      <td>57.20</td>\n",
       "      <td>100</td>\n",
       "      <td>90</td>\n",
       "      <td>2.24</td>\n",
       "      <td>ZA</td>\n",
       "      <td>1600983606</td>\n",
       "    </tr>\n",
       "    <tr>\n",
       "      <th>11</th>\n",
       "      <td>Jamestown</td>\n",
       "      <td>42.10</td>\n",
       "      <td>-79.24</td>\n",
       "      <td>73.00</td>\n",
       "      <td>60</td>\n",
       "      <td>40</td>\n",
       "      <td>9.17</td>\n",
       "      <td>US</td>\n",
       "      <td>1600983860</td>\n",
       "    </tr>\n",
       "    <tr>\n",
       "      <th>12</th>\n",
       "      <td>Tabou</td>\n",
       "      <td>4.42</td>\n",
       "      <td>-7.35</td>\n",
       "      <td>75.72</td>\n",
       "      <td>90</td>\n",
       "      <td>72</td>\n",
       "      <td>8.72</td>\n",
       "      <td>CI</td>\n",
       "      <td>1600983906</td>\n",
       "    </tr>\n",
       "    <tr>\n",
       "      <th>13</th>\n",
       "      <td>Fortuna</td>\n",
       "      <td>40.60</td>\n",
       "      <td>-124.16</td>\n",
       "      <td>72.00</td>\n",
       "      <td>68</td>\n",
       "      <td>20</td>\n",
       "      <td>14.99</td>\n",
       "      <td>US</td>\n",
       "      <td>1600983907</td>\n",
       "    </tr>\n",
       "    <tr>\n",
       "      <th>14</th>\n",
       "      <td>Busselton</td>\n",
       "      <td>-33.65</td>\n",
       "      <td>115.33</td>\n",
       "      <td>55.00</td>\n",
       "      <td>53</td>\n",
       "      <td>92</td>\n",
       "      <td>20.02</td>\n",
       "      <td>AU</td>\n",
       "      <td>1600983254</td>\n",
       "    </tr>\n",
       "    <tr>\n",
       "      <th>15</th>\n",
       "      <td>Vaini</td>\n",
       "      <td>-21.20</td>\n",
       "      <td>-175.20</td>\n",
       "      <td>77.00</td>\n",
       "      <td>73</td>\n",
       "      <td>20</td>\n",
       "      <td>8.05</td>\n",
       "      <td>TO</td>\n",
       "      <td>1600983707</td>\n",
       "    </tr>\n",
       "    <tr>\n",
       "      <th>16</th>\n",
       "      <td>Touros</td>\n",
       "      <td>-5.20</td>\n",
       "      <td>-35.46</td>\n",
       "      <td>77.00</td>\n",
       "      <td>78</td>\n",
       "      <td>20</td>\n",
       "      <td>9.17</td>\n",
       "      <td>BR</td>\n",
       "      <td>1600983888</td>\n",
       "    </tr>\n",
       "    <tr>\n",
       "      <th>17</th>\n",
       "      <td>Puerto Ayora</td>\n",
       "      <td>-0.74</td>\n",
       "      <td>-90.35</td>\n",
       "      <td>71.01</td>\n",
       "      <td>81</td>\n",
       "      <td>46</td>\n",
       "      <td>7.00</td>\n",
       "      <td>EC</td>\n",
       "      <td>1600983166</td>\n",
       "    </tr>\n",
       "    <tr>\n",
       "      <th>18</th>\n",
       "      <td>Bluff</td>\n",
       "      <td>-46.60</td>\n",
       "      <td>168.33</td>\n",
       "      <td>46.99</td>\n",
       "      <td>96</td>\n",
       "      <td>97</td>\n",
       "      <td>10.00</td>\n",
       "      <td>NZ</td>\n",
       "      <td>1600983858</td>\n",
       "    </tr>\n",
       "    <tr>\n",
       "      <th>19</th>\n",
       "      <td>Sørkjosen</td>\n",
       "      <td>69.80</td>\n",
       "      <td>20.93</td>\n",
       "      <td>40.24</td>\n",
       "      <td>77</td>\n",
       "      <td>100</td>\n",
       "      <td>10.96</td>\n",
       "      <td>NO</td>\n",
       "      <td>1600983908</td>\n",
       "    </tr>\n",
       "  </tbody>\n",
       "</table>\n",
       "</div>"
      ],
      "text/plain": [
       "              name    lat     lng  max_temp_f  humidity  cloudiness  \\\n",
       "0       Hambantota   6.12   81.12       80.46        80         100   \n",
       "1          Inírida   3.87  -67.92       81.39        79          95   \n",
       "2       Nanortalik  60.14  -45.24       38.77        72         100   \n",
       "3         Saldanha -33.01   17.94       57.20        76          27   \n",
       "4          Ushuaia -54.80  -68.30       50.00        46          40   \n",
       "5        Cape Town -33.93   18.42       60.01        82          75   \n",
       "6           Dingle  11.00  122.67       75.06        89         100   \n",
       "7       Butaritari   3.07  172.79       81.90        74          95   \n",
       "8         Lüderitz -26.65   15.16       58.15        83           5   \n",
       "9           Albany  42.60  -73.97       73.00        59         100   \n",
       "10  Port Elizabeth -33.92   25.57       57.20       100          90   \n",
       "11       Jamestown  42.10  -79.24       73.00        60          40   \n",
       "12           Tabou   4.42   -7.35       75.72        90          72   \n",
       "13         Fortuna  40.60 -124.16       72.00        68          20   \n",
       "14       Busselton -33.65  115.33       55.00        53          92   \n",
       "15           Vaini -21.20 -175.20       77.00        73          20   \n",
       "16          Touros  -5.20  -35.46       77.00        78          20   \n",
       "17    Puerto Ayora  -0.74  -90.35       71.01        81          46   \n",
       "18           Bluff -46.60  168.33       46.99        96          97   \n",
       "19       Sørkjosen  69.80   20.93       40.24        77         100   \n",
       "\n",
       "    windspeed country        date  \n",
       "0       14.27      LK  1600983904  \n",
       "1        1.68      CO  1600983368  \n",
       "2       27.47      GL  1600983696  \n",
       "3       10.29      ZA  1600983905  \n",
       "4       21.92      AR  1600983662  \n",
       "5       14.99      ZA  1600983519  \n",
       "6        3.33      PH  1600983550  \n",
       "7       16.78      KI  1600983905  \n",
       "8        3.65      NA  1600983142  \n",
       "9        2.21      US  1600983881  \n",
       "10       2.24      ZA  1600983606  \n",
       "11       9.17      US  1600983860  \n",
       "12       8.72      CI  1600983906  \n",
       "13      14.99      US  1600983907  \n",
       "14      20.02      AU  1600983254  \n",
       "15       8.05      TO  1600983707  \n",
       "16       9.17      BR  1600983888  \n",
       "17       7.00      EC  1600983166  \n",
       "18      10.00      NZ  1600983858  \n",
       "19      10.96      NO  1600983908  "
      ]
     },
     "execution_count": 11,
     "metadata": {},
     "output_type": "execute_result"
    }
   ],
   "source": [
    "# convert data to a data frame\n",
    "city_df = pd.DataFrame(city_results)\n",
    "\n",
    "# export df to CSV\n",
    "city_df.to_csv(\"cities.csv\", index=False)\n",
    "\n",
    "# show dataframe\n",
    "city_df.head(20)"
   ]
  },
  {
   "cell_type": "code",
   "execution_count": 10,
   "metadata": {},
   "outputs": [
    {
     "data": {
      "text/html": [
       "<div>\n",
       "<style scoped>\n",
       "    .dataframe tbody tr th:only-of-type {\n",
       "        vertical-align: middle;\n",
       "    }\n",
       "\n",
       "    .dataframe tbody tr th {\n",
       "        vertical-align: top;\n",
       "    }\n",
       "\n",
       "    .dataframe thead th {\n",
       "        text-align: right;\n",
       "    }\n",
       "</style>\n",
       "<table border=\"1\" class=\"dataframe\">\n",
       "  <thead>\n",
       "    <tr style=\"text-align: right;\">\n",
       "      <th></th>\n",
       "      <th>lat</th>\n",
       "      <th>lng</th>\n",
       "      <th>max_temp_f</th>\n",
       "      <th>humidity</th>\n",
       "      <th>cloudiness</th>\n",
       "      <th>windspeed</th>\n",
       "      <th>date</th>\n",
       "    </tr>\n",
       "  </thead>\n",
       "  <tbody>\n",
       "    <tr>\n",
       "      <th>count</th>\n",
       "      <td>551.000000</td>\n",
       "      <td>551.000000</td>\n",
       "      <td>551.000000</td>\n",
       "      <td>551.000000</td>\n",
       "      <td>551.000000</td>\n",
       "      <td>551.000000</td>\n",
       "      <td>5.510000e+02</td>\n",
       "    </tr>\n",
       "    <tr>\n",
       "      <th>mean</th>\n",
       "      <td>19.048040</td>\n",
       "      <td>12.171742</td>\n",
       "      <td>65.386425</td>\n",
       "      <td>71.560799</td>\n",
       "      <td>47.705989</td>\n",
       "      <td>9.576897</td>\n",
       "      <td>1.600984e+09</td>\n",
       "    </tr>\n",
       "    <tr>\n",
       "      <th>std</th>\n",
       "      <td>33.218618</td>\n",
       "      <td>88.598774</td>\n",
       "      <td>16.239951</td>\n",
       "      <td>20.063704</td>\n",
       "      <td>36.918642</td>\n",
       "      <td>32.897113</td>\n",
       "      <td>2.183301e+02</td>\n",
       "    </tr>\n",
       "    <tr>\n",
       "      <th>min</th>\n",
       "      <td>-54.800000</td>\n",
       "      <td>-179.170000</td>\n",
       "      <td>17.110000</td>\n",
       "      <td>8.000000</td>\n",
       "      <td>0.000000</td>\n",
       "      <td>0.130000</td>\n",
       "      <td>1.600983e+09</td>\n",
       "    </tr>\n",
       "    <tr>\n",
       "      <th>25%</th>\n",
       "      <td>-8.460000</td>\n",
       "      <td>-62.375000</td>\n",
       "      <td>53.600000</td>\n",
       "      <td>61.500000</td>\n",
       "      <td>10.500000</td>\n",
       "      <td>3.890000</td>\n",
       "      <td>1.600984e+09</td>\n",
       "    </tr>\n",
       "    <tr>\n",
       "      <th>50%</th>\n",
       "      <td>21.120000</td>\n",
       "      <td>16.830000</td>\n",
       "      <td>68.000000</td>\n",
       "      <td>77.000000</td>\n",
       "      <td>41.000000</td>\n",
       "      <td>6.930000</td>\n",
       "      <td>1.600984e+09</td>\n",
       "    </tr>\n",
       "    <tr>\n",
       "      <th>75%</th>\n",
       "      <td>45.860000</td>\n",
       "      <td>80.405000</td>\n",
       "      <td>77.215000</td>\n",
       "      <td>87.000000</td>\n",
       "      <td>86.500000</td>\n",
       "      <td>10.625000</td>\n",
       "      <td>1.600984e+09</td>\n",
       "    </tr>\n",
       "    <tr>\n",
       "      <th>max</th>\n",
       "      <td>78.220000</td>\n",
       "      <td>179.320000</td>\n",
       "      <td>106.000000</td>\n",
       "      <td>100.000000</td>\n",
       "      <td>100.000000</td>\n",
       "      <td>767.490000</td>\n",
       "      <td>1.600984e+09</td>\n",
       "    </tr>\n",
       "  </tbody>\n",
       "</table>\n",
       "</div>"
      ],
      "text/plain": [
       "              lat         lng  max_temp_f    humidity  cloudiness   windspeed  \\\n",
       "count  551.000000  551.000000  551.000000  551.000000  551.000000  551.000000   \n",
       "mean    19.048040   12.171742   65.386425   71.560799   47.705989    9.576897   \n",
       "std     33.218618   88.598774   16.239951   20.063704   36.918642   32.897113   \n",
       "min    -54.800000 -179.170000   17.110000    8.000000    0.000000    0.130000   \n",
       "25%     -8.460000  -62.375000   53.600000   61.500000   10.500000    3.890000   \n",
       "50%     21.120000   16.830000   68.000000   77.000000   41.000000    6.930000   \n",
       "75%     45.860000   80.405000   77.215000   87.000000   86.500000   10.625000   \n",
       "max     78.220000  179.320000  106.000000  100.000000  100.000000  767.490000   \n",
       "\n",
       "               date  \n",
       "count  5.510000e+02  \n",
       "mean   1.600984e+09  \n",
       "std    2.183301e+02  \n",
       "min    1.600983e+09  \n",
       "25%    1.600984e+09  \n",
       "50%    1.600984e+09  \n",
       "75%    1.600984e+09  \n",
       "max    1.600984e+09  "
      ]
     },
     "execution_count": 10,
     "metadata": {},
     "output_type": "execute_result"
    }
   ],
   "source": [
    "city_df.describe()"
   ]
  },
  {
   "cell_type": "markdown",
   "metadata": {},
   "source": [
    "## Inspect the data and remove the cities where the humidity > 100%.\n",
    "----\n",
    "Skip this step if there are no cities that have humidity > 100%. "
   ]
  },
  {
   "cell_type": "code",
   "execution_count": null,
   "metadata": {},
   "outputs": [],
   "source": []
  },
  {
   "cell_type": "code",
   "execution_count": 7,
   "metadata": {},
   "outputs": [],
   "source": [
    "#  Get the indices of cities that have humidity over 100%."
   ]
  },
  {
   "cell_type": "code",
   "execution_count": 8,
   "metadata": {},
   "outputs": [],
   "source": [
    "# Make a new DataFrame equal to the city data to drop all humidity outliers by index.\n",
    "# Passing \"inplace=False\" will make a copy of the city_data DataFrame, which we call \"clean_city_data\"."
   ]
  },
  {
   "cell_type": "code",
   "execution_count": null,
   "metadata": {},
   "outputs": [],
   "source": [
    "\n"
   ]
  },
  {
   "cell_type": "markdown",
   "metadata": {},
   "source": [
    "## Plotting the Data\n",
    "* Use proper labeling of the plots using plot titles (including date of analysis) and axes labels.\n",
    "* Save the plotted figures as .pngs."
   ]
  },
  {
   "cell_type": "markdown",
   "metadata": {},
   "source": [
    "## Latitude vs. Temperature Plot"
   ]
  },
  {
   "cell_type": "code",
   "execution_count": null,
   "metadata": {
    "scrolled": true
   },
   "outputs": [],
   "source": []
  },
  {
   "cell_type": "markdown",
   "metadata": {},
   "source": [
    "## Latitude vs. Humidity Plot"
   ]
  },
  {
   "cell_type": "code",
   "execution_count": null,
   "metadata": {},
   "outputs": [],
   "source": []
  },
  {
   "cell_type": "markdown",
   "metadata": {},
   "source": [
    "## Latitude vs. Cloudiness Plot"
   ]
  },
  {
   "cell_type": "code",
   "execution_count": null,
   "metadata": {},
   "outputs": [],
   "source": []
  },
  {
   "cell_type": "markdown",
   "metadata": {},
   "source": [
    "## Latitude vs. Wind Speed Plot"
   ]
  },
  {
   "cell_type": "code",
   "execution_count": null,
   "metadata": {},
   "outputs": [],
   "source": []
  },
  {
   "cell_type": "markdown",
   "metadata": {},
   "source": [
    "## Linear Regression"
   ]
  },
  {
   "cell_type": "code",
   "execution_count": null,
   "metadata": {},
   "outputs": [],
   "source": []
  },
  {
   "cell_type": "markdown",
   "metadata": {},
   "source": [
    "####  Northern Hemisphere - Max Temp vs. Latitude Linear Regression"
   ]
  },
  {
   "cell_type": "code",
   "execution_count": null,
   "metadata": {},
   "outputs": [],
   "source": []
  },
  {
   "cell_type": "markdown",
   "metadata": {},
   "source": [
    "####  Southern Hemisphere - Max Temp vs. Latitude Linear Regression"
   ]
  },
  {
   "cell_type": "code",
   "execution_count": null,
   "metadata": {},
   "outputs": [],
   "source": []
  },
  {
   "cell_type": "markdown",
   "metadata": {},
   "source": [
    "####  Northern Hemisphere - Humidity (%) vs. Latitude Linear Regression"
   ]
  },
  {
   "cell_type": "code",
   "execution_count": null,
   "metadata": {},
   "outputs": [],
   "source": []
  },
  {
   "cell_type": "markdown",
   "metadata": {},
   "source": [
    "####  Southern Hemisphere - Humidity (%) vs. Latitude Linear Regression"
   ]
  },
  {
   "cell_type": "code",
   "execution_count": null,
   "metadata": {},
   "outputs": [],
   "source": []
  },
  {
   "cell_type": "markdown",
   "metadata": {},
   "source": [
    "####  Northern Hemisphere - Cloudiness (%) vs. Latitude Linear Regression"
   ]
  },
  {
   "cell_type": "code",
   "execution_count": null,
   "metadata": {},
   "outputs": [],
   "source": []
  },
  {
   "cell_type": "markdown",
   "metadata": {},
   "source": [
    "####  Southern Hemisphere - Cloudiness (%) vs. Latitude Linear Regression"
   ]
  },
  {
   "cell_type": "code",
   "execution_count": null,
   "metadata": {},
   "outputs": [],
   "source": []
  },
  {
   "cell_type": "markdown",
   "metadata": {},
   "source": [
    "####  Northern Hemisphere - Wind Speed (mph) vs. Latitude Linear Regression"
   ]
  },
  {
   "cell_type": "code",
   "execution_count": null,
   "metadata": {},
   "outputs": [],
   "source": []
  },
  {
   "cell_type": "markdown",
   "metadata": {},
   "source": [
    "####  Southern Hemisphere - Wind Speed (mph) vs. Latitude Linear Regression"
   ]
  },
  {
   "cell_type": "code",
   "execution_count": null,
   "metadata": {},
   "outputs": [],
   "source": []
  },
  {
   "cell_type": "code",
   "execution_count": null,
   "metadata": {},
   "outputs": [],
   "source": []
  }
 ],
 "metadata": {
  "anaconda-cloud": {},
  "environment": {
   "name": "common-cpu.m54",
   "type": "gcloud",
   "uri": "gcr.io/deeplearning-platform-release/base-cpu:m54"
  },
  "kernel_info": {
   "name": "python3"
  },
  "kernelspec": {
   "display_name": "Python 3",
   "language": "python",
   "name": "python3"
  },
  "language_info": {
   "codemirror_mode": {
    "name": "ipython",
    "version": 3
   },
   "file_extension": ".py",
   "mimetype": "text/x-python",
   "name": "python",
   "nbconvert_exporter": "python",
   "pygments_lexer": "ipython3",
   "version": "3.7.8"
  },
  "latex_envs": {
   "LaTeX_envs_menu_present": true,
   "autoclose": false,
   "autocomplete": true,
   "bibliofile": "biblio.bib",
   "cite_by": "apalike",
   "current_citInitial": 1,
   "eqLabelWithNumbers": true,
   "eqNumInitial": 1,
   "hotkeys": {
    "equation": "Ctrl-E",
    "itemize": "Ctrl-I"
   },
   "labels_anchors": false,
   "latex_user_defs": false,
   "report_style_numbering": false,
   "user_envs_cfg": false
  },
  "nteract": {
   "version": "0.12.3"
  }
 },
 "nbformat": 4,
 "nbformat_minor": 4
}
